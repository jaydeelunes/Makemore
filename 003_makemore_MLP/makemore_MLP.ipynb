{
 "cells": [
  {
   "cell_type": "code",
   "execution_count": 1,
   "id": "891294ec-6d78-4f85-8b8c-ec966e42304d",
   "metadata": {},
   "outputs": [],
   "source": [
    "import torch\n",
    "import torch.nn.functional as F\n",
    "import matplotlib.pyplot as plt\n",
    "%matplotlib inline"
   ]
  },
  {
   "cell_type": "code",
   "execution_count": 1,
   "id": "38c6811c-a72c-46e7-96eb-8dd69f8a4619",
   "metadata": {},
   "outputs": [
    {
     "data": {
      "text/plain": [
       "['emma', 'olivia', 'ava', 'isabella', 'sophia', 'charlotte', 'mia', 'amelia']"
      ]
     },
     "execution_count": 1,
     "metadata": {},
     "output_type": "execute_result"
    }
   ],
   "source": [
    "# Read all the words\n",
    "words = open('../data/names.txt', 'r').read().splitlines()\n",
    "words[:8]"
   ]
  },
  {
   "cell_type": "code",
   "execution_count": 3,
   "id": "2c7e6599-3039-4990-91c8-e57935124b23",
   "metadata": {},
   "outputs": [
    {
     "data": {
      "text/plain": [
       "32033"
      ]
     },
     "execution_count": 3,
     "metadata": {},
     "output_type": "execute_result"
    }
   ],
   "source": [
    "len(words)"
   ]
  },
  {
   "cell_type": "code",
   "execution_count": 56,
   "id": "288dc9f2-04b0-4fd1-8558-d36f8a3dbbd6",
   "metadata": {},
   "outputs": [
    {
     "name": "stdout",
     "output_type": "stream",
     "text": [
      "{1: 'a', 2: 'b', 3: 'c', 4: 'd', 5: 'e', 6: 'f', 7: 'g', 8: 'h', 9: 'i', 10: 'j', 11: 'k', 12: 'l', 13: 'm', 14: 'n', 15: 'o', 16: 'p', 17: 'q', 18: 'r', 19: 's', 20: 't', 21: 'u', 22: 'v', 23: 'w', 24: 'x', 25: 'y', 26: 'z', 0: '.'}\n"
     ]
    }
   ],
   "source": [
    "# Build the vocabulary of the characters and mapppings to/from integers\n",
    "chars = sorted(list(set(''.join(words))))\n",
    "stoi = {s:i+1 for i, s in enumerate(chars)}\n",
    "stoi['.'] = 0\n",
    "itos = {i:s for s, i in stoi.items()}\n",
    "print(itos)"
   ]
  },
  {
   "cell_type": "code",
   "execution_count": 462,
   "id": "bd5ecd16-ef67-4416-be88-201d93be3b0a",
   "metadata": {},
   "outputs": [
    {
     "name": "stdout",
     "output_type": "stream",
     "text": [
      "word: yuheng\n",
      "... ---> y\n",
      "..y ---> u\n",
      ".yu ---> h\n",
      "yuh ---> e\n",
      "uhe ---> n\n",
      "hen ---> g\n",
      "eng ---> .\n",
      "word: diondre\n",
      "... ---> d\n",
      "..d ---> i\n",
      ".di ---> o\n",
      "dio ---> n\n",
      "ion ---> d\n",
      "ond ---> r\n",
      "ndr ---> e\n",
      "dre ---> .\n",
      "word: xavien\n",
      "... ---> x\n",
      "..x ---> a\n",
      ".xa ---> v\n",
      "xav ---> i\n",
      "avi ---> e\n",
      "vie ---> n\n",
      "ien ---> .\n",
      "word: jori\n",
      "... ---> j\n",
      "..j ---> o\n",
      ".jo ---> r\n",
      "jor ---> i\n",
      "ori ---> .\n"
     ]
    }
   ],
   "source": [
    "block_size = 3\n",
    "X, Y = [], []\n",
    "for w in words[:4]:\n",
    "\n",
    "    print(f'word: {w}')\n",
    "    context = [0] * block_size\n",
    "    for ch in w + '.':\n",
    "        ix = stoi[ch]\n",
    "        X.append(context)\n",
    "        Y.append(ix)\n",
    "        print(''.join(itos[i] for i in context), '--->', itos[ix])\n",
    "        context = context[1:] + [ix]\n",
    "\n",
    "X = torch.tensor(X)\n",
    "Y = torch.tensor(Y)"
   ]
  },
  {
   "cell_type": "code",
   "execution_count": 58,
   "id": "5e89fb30-2333-4ea2-9d67-31eb3570b400",
   "metadata": {},
   "outputs": [
    {
     "data": {
      "text/plain": [
       "(torch.Size([228146, 3]), torch.int64, torch.Size([228146]), torch.int64)"
      ]
     },
     "execution_count": 58,
     "metadata": {},
     "output_type": "execute_result"
    }
   ],
   "source": [
    "X.shape, X.dtype, Y.shape, Y.dtype"
   ]
  },
  {
   "cell_type": "code",
   "execution_count": 211,
   "id": "61975d04-325f-4071-9576-4596cca869eb",
   "metadata": {},
   "outputs": [
    {
     "name": "stdout",
     "output_type": "stream",
     "text": [
      "torch.Size([182625, 3]) torch.Size([182625])\n",
      "torch.Size([22655, 3]) torch.Size([22655])\n",
      "torch.Size([22866, 3]) torch.Size([22866])\n"
     ]
    }
   ],
   "source": [
    "# Build dataset, split into training, dev/validation and test splits\n",
    "def build_dataset(words):\n",
    "    block_size = 3\n",
    "    X, Y = [], []\n",
    "    for w in words:\n",
    "\n",
    "        context = [0] * block_size\n",
    "        for ch in w + '.':\n",
    "            ix = stoi[ch]\n",
    "            X.append(context)\n",
    "            Y.append(ix)\n",
    "            context = context[1:] + [ix]\n",
    "\n",
    "    X = torch.tensor(X)\n",
    "    Y = torch.tensor(Y)\n",
    "    print(X.shape, Y.shape)\n",
    "    return X, Y\n",
    "\n",
    "import random\n",
    "random.seed(42)\n",
    "random.shuffle(words)\n",
    "n1 = int(0.8*len(words))\n",
    "n2 = int(0.9*len(words))\n",
    "\n",
    "Xtr, Ytr = build_dataset(words[:n1])\n",
    "Xdev, Ydev = build_dataset(words[n1:n2])\n",
    "Xtst, Ytst = build_dataset(words[n2:])\n",
    "        "
   ]
  },
  {
   "cell_type": "code",
   "execution_count": 59,
   "id": "4b006710-37e6-430f-8b14-56a652f639d8",
   "metadata": {},
   "outputs": [],
   "source": [
    "C = torch.randn((27, 2))"
   ]
  },
  {
   "cell_type": "code",
   "execution_count": 60,
   "id": "99b567d3-3b2d-4c49-a841-071fbcef5ced",
   "metadata": {},
   "outputs": [
    {
     "data": {
      "text/plain": [
       "tensor([1.6111, 0.1612])"
      ]
     },
     "execution_count": 60,
     "metadata": {},
     "output_type": "execute_result"
    }
   ],
   "source": [
    "C[5]"
   ]
  },
  {
   "cell_type": "code",
   "execution_count": 61,
   "id": "9fc7c563-5db3-4a58-9df1-b6aa9bf832b5",
   "metadata": {},
   "outputs": [],
   "source": [
    "# Equivalent approach - Would use this in when input are encoded by n-dimensional vectors\n",
    "# F = F.one_hot(torch.tensor(5), num_classes=27).float()\n",
    "# F @ C\n",
    "# tensor([ 0.2580 -0.2972])"
   ]
  },
  {
   "cell_type": "code",
   "execution_count": 62,
   "id": "f2430452-6056-4b65-a69f-00f0e01a1ae5",
   "metadata": {},
   "outputs": [
    {
     "data": {
      "text/plain": [
       "torch.Size([228146, 3, 2])"
      ]
     },
     "execution_count": 62,
     "metadata": {},
     "output_type": "execute_result"
    }
   ],
   "source": [
    "emb = C[X]\n",
    "emb.shape"
   ]
  },
  {
   "cell_type": "code",
   "execution_count": 63,
   "id": "9376773f-ca1c-468a-a921-780d4d97052c",
   "metadata": {},
   "outputs": [],
   "source": [
    "W1 = torch.randn((6, 100))\n",
    "b1 = torch.randn(100)"
   ]
  },
  {
   "cell_type": "code",
   "execution_count": 64,
   "id": "118f6d64-0cf4-40ac-8ade-4175b825ab80",
   "metadata": {},
   "outputs": [
    {
     "data": {
      "text/plain": [
       "tensor([[-1.0442, -0.0089, -1.0442, -0.0089, -1.0442, -0.0089],\n",
       "        [-1.0442, -0.0089, -1.0442, -0.0089,  1.6111,  0.1612],\n",
       "        [-1.0442, -0.0089,  1.6111,  0.1612, -0.4082,  0.7913],\n",
       "        ...,\n",
       "        [-0.5969, -0.6095, -0.5969, -0.6095,  0.3676, -1.1268],\n",
       "        [-0.5969, -0.6095,  0.3676, -1.1268, -0.5969, -0.6095],\n",
       "        [ 0.3676, -1.1268, -0.5969, -0.6095, -0.2068,  0.7883]])"
      ]
     },
     "execution_count": 64,
     "metadata": {},
     "output_type": "execute_result"
    }
   ],
   "source": [
    "# torch.cat([emb[:, 0, :], emb[:, 1, :], emb[:, 2, :]], 1)\n",
    "# torch.cat(torch.unbind(emb, 1), 1)\n",
    "emb.view(emb.shape[0], block_size*2)"
   ]
  },
  {
   "cell_type": "code",
   "execution_count": 65,
   "id": "eff18e98-df9a-4139-a21e-d8d956673c7c",
   "metadata": {},
   "outputs": [],
   "source": [
    "h = torch.tanh(emb.view(-1, block_size*2) @ W1 + b1)"
   ]
  },
  {
   "cell_type": "code",
   "execution_count": 66,
   "id": "537056fe-b470-4790-a3fe-217912310162",
   "metadata": {},
   "outputs": [
    {
     "data": {
      "text/plain": [
       "tensor([[-0.7901, -0.5546,  0.9944,  ..., -0.9334, -0.9192, -0.8632],\n",
       "        [-0.9604, -0.9923, -0.8720,  ...,  0.9976,  0.7301, -0.9911],\n",
       "        [-0.8721,  0.7690, -0.8296,  ..., -0.9979,  1.0000,  0.8397],\n",
       "        ...,\n",
       "        [-0.9267, -0.9894, -0.5177,  ...,  0.9759, -0.9994, -0.9969],\n",
       "        [-0.9475,  0.0304, -0.0340,  ..., -0.0745, -0.9951, -0.9878],\n",
       "        [-0.9229, -0.2900, -0.9543,  ..., -0.3142, -0.9048, -0.8818]])"
      ]
     },
     "execution_count": 66,
     "metadata": {},
     "output_type": "execute_result"
    }
   ],
   "source": [
    "h"
   ]
  },
  {
   "cell_type": "code",
   "execution_count": 67,
   "id": "6f01b792-2ebf-4363-9e27-f1985b422761",
   "metadata": {},
   "outputs": [],
   "source": [
    "W2 = torch.randn(100, 27)\n",
    "b2 = torch.randn(27)"
   ]
  },
  {
   "cell_type": "code",
   "execution_count": 68,
   "id": "3ff2a46c-77b5-4801-9f87-46a6ea3276d0",
   "metadata": {},
   "outputs": [],
   "source": [
    "logits = h @ W2 + b2"
   ]
  },
  {
   "cell_type": "code",
   "execution_count": 69,
   "id": "ec264a75-1b82-4435-9810-1e8b8c50a438",
   "metadata": {},
   "outputs": [
    {
     "data": {
      "text/plain": [
       "torch.Size([228146, 27])"
      ]
     },
     "execution_count": 69,
     "metadata": {},
     "output_type": "execute_result"
    }
   ],
   "source": [
    "logits.shape"
   ]
  },
  {
   "cell_type": "code",
   "execution_count": 70,
   "id": "1ba06444-7e42-4fde-8c10-205e185d46c0",
   "metadata": {},
   "outputs": [],
   "source": [
    "counts = logits.exp()"
   ]
  },
  {
   "cell_type": "code",
   "execution_count": 71,
   "id": "bbfa0dbd-1e1e-444b-8ae3-33e585a2aa0a",
   "metadata": {},
   "outputs": [
    {
     "data": {
      "text/plain": [
       "torch.Size([228146, 27])"
      ]
     },
     "execution_count": 71,
     "metadata": {},
     "output_type": "execute_result"
    }
   ],
   "source": [
    "prob = counts / counts.sum(1, keepdims=True)\n",
    "prob.shape"
   ]
  },
  {
   "cell_type": "code",
   "execution_count": 72,
   "id": "550bf088-d49a-4459-8b26-90ee43540daf",
   "metadata": {},
   "outputs": [
    {
     "data": {
      "text/plain": [
       "tensor(14.4223)"
      ]
     },
     "execution_count": 72,
     "metadata": {},
     "output_type": "execute_result"
    }
   ],
   "source": [
    "loss = -prob[torch.arange(emb.shape[0]), Y].log().mean()\n",
    "loss"
   ]
  },
  {
   "cell_type": "code",
   "execution_count": 73,
   "id": "35cf81e3-c702-4f94-9daf-7682ed19051a",
   "metadata": {},
   "outputs": [
    {
     "data": {
      "text/plain": [
       "tensor([     0,      1,      2,  ..., 228143, 228144, 228145])"
      ]
     },
     "execution_count": 73,
     "metadata": {},
     "output_type": "execute_result"
    }
   ],
   "source": [
    "torch.arange(emb.shape[0])"
   ]
  },
  {
   "cell_type": "code",
   "execution_count": 74,
   "id": "b48633af-ea5f-446c-b2e8-225d66d60388",
   "metadata": {},
   "outputs": [
    {
     "data": {
      "text/plain": [
       "tensor([8.4913e-08, 2.3591e-12, 2.8627e-13, 1.9134e-08, 1.1167e-05, 2.0587e-08,\n",
       "        1.9584e-11, 3.5459e-10, 4.1896e-09, 4.7590e-10, 2.4540e-07, 3.9709e-04,\n",
       "        9.9706e-01, 1.8093e-05, 1.1203e-06, 1.6077e-08, 1.1539e-10, 6.9408e-13,\n",
       "        3.4383e-06, 1.1777e-06, 8.6520e-06, 7.4807e-12, 2.0067e-08, 1.3998e-04,\n",
       "        2.3536e-03, 1.6150e-11, 2.9629e-07])"
      ]
     },
     "execution_count": 74,
     "metadata": {},
     "output_type": "execute_result"
    }
   ],
   "source": [
    "prob[0]"
   ]
  },
  {
   "cell_type": "code",
   "execution_count": 75,
   "id": "e016817a-65e2-4121-9ca1-1c8889de3ae5",
   "metadata": {},
   "outputs": [
    {
     "data": {
      "text/plain": [
       "tensor([ 5, 13, 13,  ..., 26, 24,  0])"
      ]
     },
     "execution_count": 75,
     "metadata": {},
     "output_type": "execute_result"
    }
   ],
   "source": [
    "Y"
   ]
  },
  {
   "cell_type": "code",
   "execution_count": 76,
   "id": "a9cc5e55-fa7b-4a46-9408-b9425dc25531",
   "metadata": {},
   "outputs": [
    {
     "data": {
      "text/plain": [
       "tensor(2.0587e-08)"
      ]
     },
     "execution_count": 76,
     "metadata": {},
     "output_type": "execute_result"
    }
   ],
   "source": [
    "prob[0, 5]"
   ]
  },
  {
   "cell_type": "code",
   "execution_count": 77,
   "id": "58d839f3-e437-4315-ace4-726faf86a851",
   "metadata": {},
   "outputs": [
    {
     "data": {
      "text/plain": [
       "torch.Size([228146])"
      ]
     },
     "execution_count": 77,
     "metadata": {},
     "output_type": "execute_result"
    }
   ],
   "source": [
    "# For each of the 32 inputs, it returns the probability it assigned to the output from the training data\n",
    "prob[torch.arange(emb.shape[0]), Y].shape"
   ]
  },
  {
   "cell_type": "code",
   "execution_count": 78,
   "id": "7fa65091-dde4-423e-b608-bc115092959d",
   "metadata": {},
   "outputs": [],
   "source": [
    "# ==== Overview ===="
   ]
  },
  {
   "cell_type": "code",
   "execution_count": 212,
   "id": "b8106e14-7ac1-4331-a185-a040fcdc9896",
   "metadata": {},
   "outputs": [
    {
     "data": {
      "text/plain": [
       "(torch.Size([182625, 3]), torch.Size([182625]))"
      ]
     },
     "execution_count": 212,
     "metadata": {},
     "output_type": "execute_result"
    }
   ],
   "source": [
    "# Initialize the dataset\n",
    "# Dataset, x = input, y = output\n",
    "# input = number of inputs, block size\n",
    "# output =number of outputs (equivalent to number of inputs)\n",
    "Xtr.shape, Ytr.shape "
   ]
  },
  {
   "cell_type": "code",
   "execution_count": 463,
   "id": "6f56712b-a308-45b8-8650-037b0c154fcd",
   "metadata": {},
   "outputs": [],
   "source": [
    "# Initialize the neural network\n",
    "emb_size = 10\n",
    "input_layer_size = emb_size * block_size\n",
    "\n",
    "g = torch.Generator().manual_seed(2147483647)\n",
    "C = torch.randn((27, emb_size), generator=g)\n",
    "W1 = torch.randn((input_layer_size, 200), generator=g)\n",
    "b1 = torch.randn(200, generator=g)\n",
    "W2 = torch.randn((200, 27), generator=g)\n",
    "b2 = torch.randn(27, generator=g)\n",
    "parameters = [C, W1, b1, W2, b2]\n",
    "for p in parameters:\n",
    "    p.requires_grad = True"
   ]
  },
  {
   "cell_type": "code",
   "execution_count": 465,
   "id": "e14a7850-922a-4890-b04a-8d3014ccac11",
   "metadata": {},
   "outputs": [
    {
     "data": {
      "text/plain": [
       "11897"
      ]
     },
     "execution_count": 465,
     "metadata": {},
     "output_type": "execute_result"
    }
   ],
   "source": [
    "# Number of parameters in total\n",
    "sum(p.nelement() for p in parameters)"
   ]
  },
  {
   "cell_type": "code",
   "execution_count": 466,
   "id": "ad8180ca-5fe9-4182-80ae-a0fa62651c53",
   "metadata": {},
   "outputs": [],
   "source": [
    "lri, lossi, stepsi = [], [], []"
   ]
  },
  {
   "cell_type": "code",
   "execution_count": 475,
   "id": "8ad95142-ced8-465f-b7fc-878404366d5e",
   "metadata": {},
   "outputs": [
    {
     "name": "stdout",
     "output_type": "stream",
     "text": [
      "2.030228853225708\n"
     ]
    }
   ],
   "source": [
    "for i in range(200000):\n",
    "    # Mini batch construct\n",
    "    ix = torch.randint(0, Xtr.shape[0], (32,))\n",
    "    \n",
    "    # Forward pass\n",
    "    emb = C[Xtr[ix]]\n",
    "    h = torch.tanh(emb.view(emb.shape[0], input_layer_size) @ W1 + b1) # (32, 100) = (n of inputs, n of neurons)\n",
    "    logits = h @ W2 + b2 # (32, 27) = (n of inputs, n of outputs)\n",
    "    \n",
    "    # ---------- Calculate the loss based on the the values we get from the last layer\n",
    "    # counts = logits.exp()\n",
    "    # probs = counts / counts.sum(1, keepdims=True)\n",
    "    # loss = -prob[torch.arange(emb.shape[0]), Y].log().mean()\n",
    "    loss = F.cross_entropy(logits, Ytr[ix])\n",
    "    #print(f'Loss: {loss.item()}')\n",
    "    # ----------\n",
    "    \n",
    "    # Backward pass\n",
    "    for p in parameters:\n",
    "        p.grad = None\n",
    "    loss.backward()\n",
    "    \n",
    "    # Update parameters\n",
    "    lr = 0.1 if i < 100000 else 0.01\n",
    "    for p in parameters:\n",
    "        p.data += -lr * p.grad\n",
    "\n",
    "    # Track stats\n",
    "    stepsi.append(i)\n",
    "    lossi.append(loss.log10().item())\n",
    "\n",
    "print(loss.item())"
   ]
  },
  {
   "cell_type": "code",
   "execution_count": 476,
   "id": "7d3a831b-ad15-4b83-8162-3c0361fa24da",
   "metadata": {},
   "outputs": [
    {
     "data": {
      "text/plain": [
       "2.1628482341766357"
      ]
     },
     "execution_count": 476,
     "metadata": {},
     "output_type": "execute_result"
    }
   ],
   "source": [
    "# Single forward pass to calculate the loss over the entire dataset\n",
    "emb = C[Xdev]\n",
    "h = torch.tanh(emb.view(emb.shape[0], input_layer_size) @ W1 + b1) # (32, 100) = (n of inputs, n of neurons)\n",
    "logits = h @ W2 + b2 # (32, 27) = (n of inputs, n of outputs)\n",
    "loss = F.cross_entropy(logits, Ydev)\n",
    "loss.item()"
   ]
  },
  {
   "cell_type": "code",
   "execution_count": 477,
   "id": "5a25e9bc-780d-4c23-b48c-5152e1508c89",
   "metadata": {},
   "outputs": [
    {
     "data": {
      "text/plain": [
       "2.1194944381713867"
      ]
     },
     "execution_count": 477,
     "metadata": {},
     "output_type": "execute_result"
    }
   ],
   "source": [
    "# Single forward pass to calculate the loss over the entire dataset\n",
    "emb = C[Xtr]\n",
    "h = torch.tanh(emb.view(emb.shape[0], input_layer_size) @ W1 + b1) # (32, 100) = (n of inputs, n of neurons)\n",
    "logits = h @ W2 + b2 # (32, 27) = (n of inputs, n of outputs)\n",
    "loss = F.cross_entropy(logits, Ytr)\n",
    "loss.item()"
   ]
  },
  {
   "cell_type": "code",
   "execution_count": 455,
   "id": "484dec0f-5ab6-4fbe-9e24-576200101cee",
   "metadata": {},
   "outputs": [],
   "source": [
    "# plt.figure(figsize=(8,8))\n",
    "# plt.scatter(C[:,0].data, C[:, 1].data, s=200)\n",
    "# for i in range(C.shape[0]):\n",
    "#     plt.text(C[i,0].item(), C[i,1].item(), itos[i], ha=\"center\", va=\"center\", color=\"white\")\n",
    "# plt.grid('minor')"
   ]
  },
  {
   "cell_type": "code",
   "execution_count": 473,
   "id": "df0f0daf-d35e-4121-aadf-3bdcccf4c861",
   "metadata": {},
   "outputs": [
    {
     "data": {
      "text/plain": [
       "[<matplotlib.lines.Line2D at 0x1235801d0>]"
      ]
     },
     "execution_count": 473,
     "metadata": {},
     "output_type": "execute_result"
    },
    {
     "data": {
      "image/png": "[encoded data removed]",
      "text/plain": [
       "<Figure size 640x480 with 1 Axes>"
      ]
     },
     "metadata": {},
     "output_type": "display_data"
    }
   ],
   "source": [
    "plt.plot(stepsi, lossi)"
   ]
  },
  {
   "cell_type": "code",
   "execution_count": 479,
   "id": "c9208a44-1967-44e6-ab73-4777dac664d5",
   "metadata": {},
   "outputs": [
    {
     "name": "stdout",
     "output_type": "stream",
     "text": [
      "rashamjwis.\n",
      "koliarisa.\n",
      "majius.\n",
      "shaya.\n",
      "khonaliannola.\n",
      "tose.\n",
      "jenanos.\n",
      "amileah.\n",
      "abig.\n",
      "wan.\n",
      "olia.\n",
      "ani.\n",
      "fadelizaie.\n",
      "ann.\n",
      "orianna.\n",
      "vaewa.\n",
      "kamalaien.\n",
      "daryott.\n",
      "camalaneiah.\n",
      "adhera.\n"
     ]
    }
   ],
   "source": [
    "# Sample from model\n",
    "g = torch.Generator().manual_seed(2147483647 + 20)\n",
    "for _ in range(20):\n",
    "    out = []\n",
    "    context = [0] * block_size\n",
    "    while True:\n",
    "        emb = C[torch.tensor([context])]\n",
    "        h = torch.tanh(emb.view(1, -1) @ W1 + b1)\n",
    "        logits = h @ W2 + b2\n",
    "        probs = F.softmax(logits, dim=1)\n",
    "        ix = torch.multinomial(probs, num_samples=1, generator=g).item()\n",
    "        context = context[1:] + [ix]\n",
    "        out.append(ix)\n",
    "        if ix == 0:\n",
    "            break\n",
    "\n",
    "    print(''.join(itos[i] for i in out))"
   ]
  },
  {
   "cell_type": "code",
   "execution_count": null,
   "id": "09e7e55b-9033-4173-a21f-970bd895518d",
   "metadata": {},
   "outputs": [],
   "source": []
  }
 ],
 "metadata": {
  "kernelspec": {
   "display_name": "Python 3 (ipykernel)",
   "language": "python",
   "name": "python3"
  },
  "language_info": {
   "codemirror_mode": {
    "name": "ipython",
    "version": 3
   },
   "file_extension": ".py",
   "mimetype": "text/x-python",
   "name": "python",
   "nbconvert_exporter": "python",
   "pygments_lexer": "ipython3",
   "version": "3.12.3"
  }
 },
 "nbformat": 4,
 "nbformat_minor": 5
}
