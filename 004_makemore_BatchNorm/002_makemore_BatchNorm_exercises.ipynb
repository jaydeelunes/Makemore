{
 "cells": [
  {
   "cell_type": "markdown",
   "id": "06852a80-2fea-49f5-b9f2-82e625461ea5",
   "metadata": {},
   "source": [
    "# Makemore pt.3 Kata no.2"
   ]
  },
  {
   "cell_type": "markdown",
   "id": "a623a060-da2d-4f7a-b7ae-0492e7347772",
   "metadata": {},
   "source": [
    "## Setup and data"
   ]
  },
  {
   "cell_type": "markdown",
   "id": "3d5e7f6c-84e6-44c7-8444-065ad75cf376",
   "metadata": {},
   "source": [
    "### Import packages"
   ]
  },
  {
   "cell_type": "code",
   "execution_count": 1,
   "id": "d4025c90-1b9c-406d-9233-15ce9dea32fa",
   "metadata": {},
   "outputs": [],
   "source": [
    "import torch\n",
    "import torch.nn.functional as F\n",
    "import matplotlib.pyplot as plt\n",
    "%matplotlib inline"
   ]
  },
  {
   "cell_type": "markdown",
   "id": "baf0cf99-b093-4f80-a950-606820fec895",
   "metadata": {},
   "source": [
    "### Import data"
   ]
  },
  {
   "cell_type": "code",
   "execution_count": 2,
   "id": "0be78351-2a33-45ab-be0a-d6950bef676a",
   "metadata": {},
   "outputs": [
    {
     "data": {
      "text/plain": [
       "['emma', 'olivia', 'ava', 'isabella', 'sophia', 'charlotte', 'mia', 'amelia']"
      ]
     },
     "execution_count": 2,
     "metadata": {},
     "output_type": "execute_result"
    }
   ],
   "source": [
    "words = open('../data/names.txt').read().splitlines()\n",
    "words[:8]"
   ]
  },
  {
   "cell_type": "markdown",
   "id": "5be8c8c0-1d4f-4fa7-b69f-dd7b1e8a97ba",
   "metadata": {},
   "source": [
    "### Get vocabulary and map to/from integers"
   ]
  },
  {
   "cell_type": "code",
   "execution_count": 3,
   "id": "5556b51a-1bd6-4b70-b523-a079510eb26a",
   "metadata": {},
   "outputs": [
    {
     "name": "stdout",
     "output_type": "stream",
     "text": [
      "27\n",
      "{1: 'a', 2: 'b', 3: 'c', 4: 'd', 5: 'e', 6: 'f', 7: 'g', 8: 'h', 9: 'i', 10: 'j', 11: 'k', 12: 'l', 13: 'm', 14: 'n', 15: 'o', 16: 'p', 17: 'q', 18: 'r', 19: 's', 20: 't', 21: 'u', 22: 'v', 23: 'w', 24: 'x', 25: 'y', 26: 'z', 0: '.'}\n"
     ]
    }
   ],
   "source": [
    "chars = sorted(list(set(''.join(words))))\n",
    "itos = {i+1:s for i, s in enumerate(chars)}\n",
    "itos[0] = '.'\n",
    "stoi = {s:i for i, s in itos.items()}\n",
    "vocab_size = len(itos)\n",
    "\n",
    "print(vocab_size)\n",
    "print(itos)"
   ]
  },
  {
   "cell_type": "markdown",
   "id": "cfe73951-f5e8-4a0e-b81f-ad24e782ee58",
   "metadata": {},
   "source": [
    "### Build dataset splits"
   ]
  },
  {
   "cell_type": "code",
   "execution_count": 4,
   "id": "30e9bded-857a-4d6a-960b-8e33d853a7dd",
   "metadata": {},
   "outputs": [
    {
     "name": "stdout",
     "output_type": "stream",
     "text": [
      "torch.Size([182778, 3]) torch.Size([182778])\n",
      "torch.Size([22633, 3]) torch.Size([22633])\n",
      "torch.Size([22735, 3]) torch.Size([22735])\n"
     ]
    }
   ],
   "source": [
    "block_size = 3\n",
    "\n",
    "def build_dataset(words):\n",
    "    X, Y = [], []\n",
    "    for name in words:\n",
    "        context = [0] * block_size\n",
    "        for char in name + '.':\n",
    "            ix = stoi[char]\n",
    "            X.append(context)\n",
    "            Y.append(ix)\n",
    "            context = context[1:] + [ix]\n",
    "\n",
    "    X = torch.tensor(X)\n",
    "    Y = torch.tensor(Y)\n",
    "    print(X.shape, Y.shape)\n",
    "    return X, Y\n",
    "\n",
    "import random\n",
    "random.seed(42)\n",
    "random.shuffle\n",
    "n1 = int(0.8 * len(words))\n",
    "n2 = int(0.9 * len(words))\n",
    "\n",
    "Xtr, Ytr = build_dataset(words[:n1])\n",
    "Xdev, Ydev = build_dataset(words[n1:n2])\n",
    "Xtst, Ytst = build_dataset(words[n2:])"
   ]
  },
  {
   "cell_type": "markdown",
   "id": "0dfa6a8b-d829-4323-b518-61a19dd94b6f",
   "metadata": {},
   "source": [
    "## Neural Network"
   ]
  },
  {
   "cell_type": "markdown",
   "id": "331ce5ab-304e-4ea8-b4b5-753d4d6daf61",
   "metadata": {},
   "source": [
    "### Layer modules"
   ]
  },
  {
   "cell_type": "code",
   "execution_count": 58,
   "id": "c23cb422-9cce-4618-b0b6-67dd0fc3712f",
   "metadata": {},
   "outputs": [],
   "source": [
    "class Linear:\n",
    "\n",
    "    def __init__(self, fan_in, fan_out, bias=True):\n",
    "        self.weight = torch.randn((fan_in, fan_out), generator=g) * 0.5\n",
    "        self.bias = torch.zeros(fan_out) if bias else None\n",
    "\n",
    "    def __call__(self, x):\n",
    "        self.out = x @ self.weight\n",
    "        if self.bias is not None:\n",
    "            self.out += self.bias\n",
    "        return self.out\n",
    "\n",
    "    def parameters(self):\n",
    "        return [self.weight] + ([self.bias] if self.bias is not None else [])\n",
    "\n",
    "class BatchNorm1d:\n",
    "\n",
    "    def __init__(self, dim, eps=1e-5, momentum=0.1):\n",
    "        self.eps = eps\n",
    "        self.momentum = momentum\n",
    "        self.training = True\n",
    "        # Parameters\n",
    "        self.gamma = torch.ones(dim)\n",
    "        self.beta = torch.zeros(dim)\n",
    "        # Buffers\n",
    "        self.running_mean = torch.ones(dim)\n",
    "        self.running_var = torch.zeros(dim)\n",
    "\n",
    "    def __call__(self, x):\n",
    "        if self.training:\n",
    "            xmean = x.mean(0, keepdim=True)\n",
    "            xvar = x.var(0, keepdim=True, unbiased=True)\n",
    "        else:\n",
    "            xmean = self.running_mean\n",
    "            xvar = self.running_var\n",
    "            \n",
    "        xhat = (x - xmean) / torch.sqrt(xvar + self.eps)\n",
    "        self.out = self.gamma * xhat + self.beta\n",
    "\n",
    "        if self.training:\n",
    "            with torch.no_grad():\n",
    "                self.running_mean = (1 - self.momentum) * self.running_mean + self.momentum * xmean\n",
    "                self.running_var = (1 - self.momentum) * self.running_var + self.momentum * xvar\n",
    "\n",
    "        return self.out\n",
    "\n",
    "    def parameters(self):\n",
    "        return [self.gamma, self.beta]\n",
    "\n",
    "class Tanh:\n",
    "\n",
    "    def __call__(self, x):\n",
    "        self.out = torch.tanh(x)\n",
    "        return self.out\n",
    "\n",
    "    def parameters(self):\n",
    "        return []"
   ]
  },
  {
   "cell_type": "markdown",
   "id": "d2d23ddb-ce67-4e79-8465-2b43416e9dfb",
   "metadata": {},
   "source": [
    "### Neural Network initialisation"
   ]
  },
  {
   "cell_type": "code",
   "execution_count": 75,
   "id": "b05b43a1-226a-4714-9e6c-5b9f7f34ca84",
   "metadata": {},
   "outputs": [
    {
     "name": "stdout",
     "output_type": "stream",
     "text": [
      "47551\n"
     ]
    }
   ],
   "source": [
    "n_emb = 10\n",
    "n_hidden = 100\n",
    "g = torch.Generator().manual_seed(2147483647)\n",
    "\n",
    "C = torch.randn((vocab_size, n_emb), generator=g)\n",
    "layers = [\n",
    "    Linear((block_size * n_emb), n_hidden), BatchNorm1d(n_hidden), Tanh(),\n",
    "    Linear(            n_hidden, n_hidden), BatchNorm1d(n_hidden), Tanh(),\n",
    "    Linear(            n_hidden, n_hidden), BatchNorm1d(n_hidden), Tanh(),\n",
    "    Linear(            n_hidden, n_hidden), BatchNorm1d(n_hidden), Tanh(),\n",
    "    Linear(            n_hidden, n_hidden), BatchNorm1d(n_hidden), Tanh(),\n",
    "    Linear(            n_hidden, vocab_size), BatchNorm1d(vocab_size)\n",
    "]\n",
    "\n",
    "# Make last layer less confident\n",
    "layers[-1].gamma *= 0.1\n",
    "# Set gain for Linear layers\n",
    "for layer in layers:\n",
    "    if isinstance(layer, Linear):\n",
    "        layer.weight *= 5/3\n",
    "\n",
    "parameters = [C] + [p for layer in layers for p in layer.parameters()]\n",
    "print(sum(p.nelement() for p in parameters))\n",
    "for p in parameters:\n",
    "    p.requires_grad = True"
   ]
  },
  {
   "cell_type": "markdown",
   "id": "ce0a376e-6306-4a4a-a261-25800b143220",
   "metadata": {},
   "source": [
    "### Training loop"
   ]
  },
  {
   "cell_type": "code",
   "execution_count": 76,
   "id": "8e02cfd2-3e19-4065-b956-944b1e85febd",
   "metadata": {},
   "outputs": [
    {
     "name": "stdout",
     "output_type": "stream",
     "text": [
      "      0 / 200000: 3.3162784576416016\n",
      "  10000 / 200000: 2.4227488040924072\n",
      "  20000 / 200000: 2.24312424659729\n",
      "  30000 / 200000: 1.9483213424682617\n",
      "  40000 / 200000: 2.5781843662261963\n",
      "  50000 / 200000: 1.958975076675415\n",
      "  60000 / 200000: 2.4463038444519043\n",
      "  70000 / 200000: 2.1441855430603027\n",
      "  80000 / 200000: 2.1744778156280518\n",
      "  90000 / 200000: 2.0837926864624023\n",
      " 100000 / 200000: 1.9194324016571045\n",
      " 110000 / 200000: 2.0997962951660156\n",
      " 120000 / 200000: 1.7937270402908325\n",
      " 130000 / 200000: 2.016942262649536\n",
      " 140000 / 200000: 2.3276352882385254\n",
      " 150000 / 200000: 1.6029975414276123\n",
      " 160000 / 200000: 2.4486570358276367\n",
      " 170000 / 200000: 2.0809812545776367\n",
      " 180000 / 200000: 2.4081408977508545\n",
      " 190000 / 200000: 1.9214376211166382\n"
     ]
    }
   ],
   "source": [
    "max_steps = 200000\n",
    "batch_size = 32\n",
    "lossi = []\n",
    "\n",
    "for i in range(max_steps):\n",
    "\n",
    "    # Build mini batch\n",
    "    ix = torch.randint(0, Xtr.shape[0], (batch_size,), generator=g)\n",
    "    Xb, Yb = Xtr[ix], Ytr[ix]\n",
    "\n",
    "    # Forward pass\n",
    "    emb = C[Xb]\n",
    "    x = emb.view(emb.shape[0], -1)\n",
    "    for layer in layers:\n",
    "        x = layer(x)\n",
    "    loss = F.cross_entropy(x, Yb)\n",
    "\n",
    "    # Backward pass\n",
    "    for layer in layers:\n",
    "        layer.out.retain_grad()\n",
    "    for p in parameters:\n",
    "        p.grad = None\n",
    "    loss.backward()\n",
    "\n",
    "    # Update\n",
    "    lr = 0.1 if i < 100000 else 0.01\n",
    "    for p in parameters:\n",
    "        p.data += -lr * p.grad\n",
    "\n",
    "    # Track stats\n",
    "    if i % 10000 == 0:\n",
    "        print(f'{i:7d} / {max_steps}: {loss}')\n",
    "    lossi.append(loss.log10().item())\n",
    "\n",
    "    # if i > 1000:\n",
    "    #     break\n",
    "        "
   ]
  },
  {
   "cell_type": "markdown",
   "id": "845ab46a-8080-4cc3-a521-f52b881c3565",
   "metadata": {},
   "source": [
    "## Diagnostics"
   ]
  },
  {
   "cell_type": "markdown",
   "id": "c103c06a-20c7-44ec-885f-c8b455f18aba",
   "metadata": {},
   "source": [
    "### Calculate loss per split"
   ]
  },
  {
   "cell_type": "code",
   "execution_count": 77,
   "id": "c87cf67e-afbe-4adf-8355-08959b46c0be",
   "metadata": {},
   "outputs": [
    {
     "name": "stdout",
     "output_type": "stream",
     "text": [
      "train 2.059532642364502\n",
      "val 2.347982168197632\n"
     ]
    }
   ],
   "source": [
    "def split_loss(split):\n",
    "    x, y = {\n",
    "        'train': (Xtr, Ytr),\n",
    "        'val': (Xdev, Ydev),\n",
    "        'test': (Xtst, Ytst)\n",
    "    }[split]\n",
    "\n",
    "    emb = C[x]\n",
    "    x = emb.view(emb.shape[0], -1)\n",
    "    for layer in layers:\n",
    "        x = layer(x)\n",
    "    loss = F.cross_entropy(x, y)\n",
    "\n",
    "    print(split, loss.item())\n",
    "\n",
    "split_loss('train')\n",
    "split_loss('val')"
   ]
  },
  {
   "cell_type": "code",
   "execution_count": null,
   "id": "ffc0653c-4a29-4db3-a6ee-cc982a00c80c",
   "metadata": {},
   "outputs": [],
   "source": []
  }
 ],
 "metadata": {
  "kernelspec": {
   "display_name": "Python 3 (ipykernel)",
   "language": "python",
   "name": "python3"
  },
  "language_info": {
   "codemirror_mode": {
    "name": "ipython",
    "version": 3
   },
   "file_extension": ".py",
   "mimetype": "text/x-python",
   "name": "python",
   "nbconvert_exporter": "python",
   "pygments_lexer": "ipython3",
   "version": "3.11.5"
  }
 },
 "nbformat": 4,
 "nbformat_minor": 5
}
