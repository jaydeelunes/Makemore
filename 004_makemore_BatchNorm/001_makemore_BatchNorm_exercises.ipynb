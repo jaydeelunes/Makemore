{
 "cells": [
  {
   "cell_type": "markdown",
   "id": "b28aeee8-3112-413a-89fe-9e44c92acb11",
   "metadata": {},
   "source": [
    "# Kata for Makemore pt. 3"
   ]
  },
  {
   "cell_type": "markdown",
   "id": "673cb945-14cb-4539-9e77-af037a42d421",
   "metadata": {},
   "source": [
    "## Importing packages"
   ]
  },
  {
   "cell_type": "code",
   "execution_count": 1,
   "id": "4f43e94b-20e7-41c3-a5ef-04f2cd0ab5aa",
   "metadata": {},
   "outputs": [],
   "source": [
    "import torch\n",
    "import torch.nn.functional as F\n",
    "import matplotlib.pyplot as plt\n",
    "%matplotlib inline"
   ]
  },
  {
   "cell_type": "markdown",
   "id": "0484c07a-c16c-4c2f-94f3-38cdabb9dc59",
   "metadata": {},
   "source": [
    "## Importing data"
   ]
  },
  {
   "cell_type": "code",
   "execution_count": 2,
   "id": "22873c2e-e1cb-4930-8c90-0c60ac4415df",
   "metadata": {},
   "outputs": [
    {
     "data": {
      "text/plain": [
       "['emma', 'olivia', 'ava', 'isabella', 'sophia', 'charlotte', 'mia', 'amelia']"
      ]
     },
     "execution_count": 2,
     "metadata": {},
     "output_type": "execute_result"
    }
   ],
   "source": [
    "words = open('../data/names.txt').read().splitlines()\n",
    "words[:8]"
   ]
  },
  {
   "cell_type": "markdown",
   "id": "869245b7-d0cb-4259-bb37-b2215ea3ed61",
   "metadata": {},
   "source": [
    "## Build vocabulary and map to/from integers"
   ]
  },
  {
   "cell_type": "code",
   "execution_count": 3,
   "id": "34060384-0de6-45aa-a9e2-744a7bde2ca1",
   "metadata": {},
   "outputs": [
    {
     "name": "stdout",
     "output_type": "stream",
     "text": [
      "27\n",
      "{1: 'a', 2: 'b', 3: 'c', 4: 'd', 5: 'e', 6: 'f', 7: 'g', 8: 'h', 9: 'i', 10: 'j', 11: 'k', 12: 'l', 13: 'm', 14: 'n', 15: 'o', 16: 'p', 17: 'q', 18: 'r', 19: 's', 20: 't', 21: 'u', 22: 'v', 23: 'w', 24: 'x', 25: 'y', 26: 'z', 0: '.'}\n"
     ]
    }
   ],
   "source": [
    "chars = sorted(list(set(''.join(words))))\n",
    "itos = {i+1:s for i, s in enumerate(chars)}\n",
    "itos[0] = '.'\n",
    "stoi = {s:i for i, s in itos.items()}\n",
    "vocab_size = len(itos)\n",
    "\n",
    "print(vocab_size)\n",
    "print(itos)"
   ]
  },
  {
   "cell_type": "markdown",
   "id": "cd32c535-3c52-4772-b3bd-23fd0907b630",
   "metadata": {},
   "source": [
    "## Build the dataset splits"
   ]
  },
  {
   "cell_type": "code",
   "execution_count": 4,
   "id": "a081db8b-34da-404b-ad91-2b66eb37d643",
   "metadata": {},
   "outputs": [
    {
     "name": "stdout",
     "output_type": "stream",
     "text": [
      "torch.Size([182625, 3]) torch.Size([182625])\n",
      "torch.Size([22655, 3]) torch.Size([22655])\n",
      "torch.Size([22866, 3]) torch.Size([22866])\n"
     ]
    }
   ],
   "source": [
    "block_size = 3\n",
    "\n",
    "def build_dataset(words):\n",
    "    X, Y = [], []\n",
    "    for name in words:\n",
    "        context = [0] * block_size\n",
    "        for char in name + '.':\n",
    "            ix = stoi[char]\n",
    "            X.append(context)\n",
    "            Y.append(ix)\n",
    "            context = context[1:] + [ix]\n",
    "\n",
    "    X = torch.tensor(X)\n",
    "    Y = torch.tensor(Y)\n",
    "    print(X.shape, Y.shape)\n",
    "\n",
    "    return X, Y\n",
    "\n",
    "import random\n",
    "random.seed(42)\n",
    "random.shuffle(words)\n",
    "n1 = int(0.8 * len(words))\n",
    "n2 = int(0.9 * len(words))\n",
    "\n",
    "Xtr, Ytr = build_dataset(words[:n1])\n",
    "Xdev, Ydev = build_dataset(words[n1:n2])\n",
    "Xte, Yte = build_dataset(words[n2:])\n"
   ]
  },
  {
   "cell_type": "markdown",
   "id": "77e95261-24cf-42c0-a723-bfde13d2ae95",
   "metadata": {},
   "source": [
    "## Modules"
   ]
  },
  {
   "cell_type": "code",
   "execution_count": 58,
   "id": "8e5dafd1-8fbf-4d7d-8dab-d0bd4d657033",
   "metadata": {},
   "outputs": [],
   "source": [
    "# Linear layer\n",
    "class Linear:\n",
    "\n",
    "    def __init__(self, fan_in, fan_out, bias=True):\n",
    "        self.weights = torch.randn((fan_in, fan_out)) * 0.5\n",
    "        self.bias = torch.zeros(fan_out) if bias else None\n",
    "\n",
    "    def __call__(self, x):\n",
    "        self.out = x @ self.weights\n",
    "        if self.bias is not None:\n",
    "            self.out += self.bias\n",
    "        return self.out\n",
    "\n",
    "    def parameters(self):\n",
    "        return [self.weights] + ([] if self.bias is None else [self.bias])\n",
    "\n",
    "# Batch normalisation layer\n",
    "class BatchNorm1d:\n",
    "\n",
    "    def __init__(self, dim, eps=1e-5, momentum=0.1):\n",
    "        self.eps = eps\n",
    "        self.momentum = momentum\n",
    "        self.training = True\n",
    "        # Parameters\n",
    "        self.gamma = torch.ones(dim)\n",
    "        self.beta = torch.zeros(dim)\n",
    "        # Buffers\n",
    "        self.running_mean = torch.zeros(dim)\n",
    "        self.running_var = torch.ones(dim)\n",
    "\n",
    "    def __call__(self, x):\n",
    "        if self.training:\n",
    "            xmean = x.mean(0, keepdim=True)\n",
    "            xvar = x.var(0, keepdim=True, unbiased=True)\n",
    "        else:\n",
    "            xmean = self.running_mean\n",
    "            xvar = self.running_var\n",
    "        xhat = (x - xmean) / torch.sqrt(xvar + self.eps)\n",
    "        self.out = self.gamma * xhat + self.beta\n",
    "        if self.training:\n",
    "            with torch.no_grad():\n",
    "                self.running_mean = (1 - self.momentum) * self.running_mean + self.momentum * xmean\n",
    "                self.running_var = (1 - self.momentum) * self.running_var + self.momentum * xvar\n",
    "        return self.out\n",
    "\n",
    "    def parameters(self):\n",
    "        return [self.gamma, self.beta]\n",
    "\n",
    "# Tanh\n",
    "class Tanh:\n",
    "\n",
    "    def __call__(self, x):\n",
    "        self.out = torch.tanh(x)\n",
    "        return self.out\n",
    "\n",
    "    def parameters(self):\n",
    "        return []"
   ]
  },
  {
   "cell_type": "markdown",
   "id": "ee1e6764-444d-4ca4-b4ff-1ae5f810836e",
   "metadata": {},
   "source": [
    "## Instantiate the Neural Network"
   ]
  },
  {
   "cell_type": "code",
   "execution_count": 62,
   "id": "b896012a-26b7-415e-90ce-67e8b42cfd91",
   "metadata": {},
   "outputs": [
    {
     "name": "stdout",
     "output_type": "stream",
     "text": [
      "47551\n"
     ]
    }
   ],
   "source": [
    "n_emb = 10\n",
    "n_hidden = 100\n",
    "g = torch.Generator().manual_seed(2147483647)\n",
    "\n",
    "C = torch.randn((vocab_size, n_emb), generator=g)\n",
    "layers = [\n",
    "    Linear((block_size * n_emb), n_hidden), BatchNorm1d(n_hidden), Tanh(),\n",
    "    Linear(            n_hidden, n_hidden), BatchNorm1d(n_hidden), Tanh(),\n",
    "    Linear(            n_hidden, n_hidden), BatchNorm1d(n_hidden), Tanh(),\n",
    "    Linear(            n_hidden, n_hidden), BatchNorm1d(n_hidden), Tanh(),\n",
    "    Linear(            n_hidden, n_hidden), BatchNorm1d(n_hidden), Tanh(),\n",
    "    Linear(            n_hidden, vocab_size), BatchNorm1d(vocab_size)\n",
    "]\n",
    "\n",
    "with torch.no_grad():\n",
    "    layers[-1].gamma *= 0.1\n",
    "    for layer in layers:\n",
    "        if isinstance(layer, Linear):\n",
    "            layer.weights *= 5/3\n",
    "\n",
    "parameters = [C] + [p for layer in layers for p in layer.parameters()]\n",
    "print(sum(p.nelement() for p in parameters))\n",
    "for p in parameters:\n",
    "    p.requires_grad = True"
   ]
  },
  {
   "cell_type": "markdown",
   "id": "581ad3d8-7535-4286-8809-c99f2cc45a3a",
   "metadata": {},
   "source": [
    "## Training loop"
   ]
  },
  {
   "cell_type": "code",
   "execution_count": 63,
   "id": "e112b555-60b6-4838-9c72-5d802cad1e01",
   "metadata": {},
   "outputs": [
    {
     "name": "stdout",
     "output_type": "stream",
     "text": [
      "      0 / 200000: 3.30237078666687\n",
      "  10000 / 200000: 2.439859390258789\n",
      "  20000 / 200000: 1.954805612564087\n",
      "  30000 / 200000: 2.1874005794525146\n",
      "  40000 / 200000: 2.529695987701416\n",
      "  50000 / 200000: 2.270250082015991\n",
      "  60000 / 200000: 1.8611915111541748\n",
      "  70000 / 200000: 2.1284592151641846\n",
      "  80000 / 200000: 2.1515889167785645\n",
      "  90000 / 200000: 1.8424043655395508\n",
      " 100000 / 200000: 1.8649418354034424\n",
      " 110000 / 200000: 1.9250895977020264\n",
      " 120000 / 200000: 1.8294060230255127\n",
      " 130000 / 200000: 1.9874417781829834\n",
      " 140000 / 200000: 2.2387619018554688\n",
      " 150000 / 200000: 1.9947285652160645\n",
      " 160000 / 200000: 2.1127736568450928\n",
      " 170000 / 200000: 2.3492448329925537\n",
      " 180000 / 200000: 2.231051206588745\n",
      " 190000 / 200000: 2.0896363258361816\n"
     ]
    }
   ],
   "source": [
    "max_steps = 200000\n",
    "batch_size = 32\n",
    "lossi = []\n",
    "\n",
    "for i in range(max_steps):\n",
    "\n",
    "    # Build mini batch\n",
    "    ix = torch.randint(0, Xtr.shape[0], (batch_size,), generator=g)\n",
    "    Xb, Yb = Xtr[ix], Ytr[ix]\n",
    "\n",
    "    # Forward pass\n",
    "    emb = C[Xb]\n",
    "    x = emb.view(emb.shape[0], -1)\n",
    "    for layer in layers:\n",
    "         x = layer(x)\n",
    "    loss = F.cross_entropy(x, Yb)\n",
    "    \n",
    "    # Backward pass\n",
    "    for layer in layers:\n",
    "        layer.out.retain_grad()\n",
    "    for p in parameters:\n",
    "        p.grad = None\n",
    "    loss.backward()\n",
    "\n",
    "    # Update\n",
    "    lr = 0.1 if i < 100000 else 0.01\n",
    "    for p in parameters:\n",
    "        p.data += -lr * p.grad\n",
    "\n",
    "    # Track stats\n",
    "    if i % 10000 == 0:\n",
    "        print(f'{i:7d} / {max_steps}: {loss}')\n",
    "    lossi.append(loss.log10().item())\n",
    "\n",
    "    # if i > 1000:\n",
    "    #     break"
   ]
  },
  {
   "cell_type": "markdown",
   "id": "a898e428-26ef-4ffd-9095-c1b14eb03240",
   "metadata": {},
   "source": [
    "## Diagnostic tools"
   ]
  },
  {
   "cell_type": "markdown",
   "id": "e71d1025-dd4e-4435-a6b8-1804a52f687f",
   "metadata": {},
   "source": [
    "### Calculate loss per split"
   ]
  },
  {
   "cell_type": "code",
   "execution_count": 64,
   "id": "8d73b662-50e7-42bd-8174-bb3c5e8bec85",
   "metadata": {},
   "outputs": [
    {
     "name": "stdout",
     "output_type": "stream",
     "text": [
      "train 2.0995213985443115\n",
      "val 2.1335363388061523\n"
     ]
    }
   ],
   "source": [
    "def split_loss(split):\n",
    "    x, y = {\n",
    "        'train': (Xtr, Ytr),\n",
    "        'val': (Xdev, Ydev),\n",
    "        'test': (Xte, Yte)\n",
    "    }[split]\n",
    "\n",
    "    emb = C[x]\n",
    "    x = emb.view(emb.shape[0], -1)\n",
    "    for layer in layers:\n",
    "        x = layer(x)\n",
    "    loss = F.cross_entropy(x, y)\n",
    "\n",
    "    print(split, loss.item())\n",
    "\n",
    "split_loss('train')\n",
    "split_loss('val')"
   ]
  },
  {
   "cell_type": "markdown",
   "id": "0a45e364-afe2-496a-b0fd-c73c163c5478",
   "metadata": {},
   "source": [
    "### Activation distribution"
   ]
  },
  {
   "cell_type": "markdown",
   "id": "f4bd25d3-724c-4495-9a4b-19542f787ee2",
   "metadata": {},
   "source": [
    "### Gradient distribution"
   ]
  },
  {
   "cell_type": "markdown",
   "id": "ade0e97c-6e05-4a40-a121-5389d8614622",
   "metadata": {},
   "source": [
    "### Weights gradient activation"
   ]
  },
  {
   "cell_type": "markdown",
   "id": "ab19dad7-6af8-4464-a8fa-e1f12a20fab4",
   "metadata": {},
   "source": [
    "### Weights update ratio"
   ]
  },
  {
   "cell_type": "code",
   "execution_count": null,
   "id": "251792ae-e891-43f8-b816-8e27a85c7307",
   "metadata": {},
   "outputs": [],
   "source": []
  }
 ],
 "metadata": {
  "kernelspec": {
   "display_name": "Python 3 (ipykernel)",
   "language": "python",
   "name": "python3"
  },
  "language_info": {
   "codemirror_mode": {
    "name": "ipython",
    "version": 3
   },
   "file_extension": ".py",
   "mimetype": "text/x-python",
   "name": "python",
   "nbconvert_exporter": "python",
   "pygments_lexer": "ipython3",
   "version": "3.11.5"
  }
 },
 "nbformat": 4,
 "nbformat_minor": 5
}
