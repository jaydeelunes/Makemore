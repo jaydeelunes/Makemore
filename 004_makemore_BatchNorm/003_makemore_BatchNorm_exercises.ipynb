{
 "cells": [
  {
   "cell_type": "markdown",
   "id": "c29d6cef-f8a3-45c5-91d7-b25f1343dc43",
   "metadata": {},
   "source": [
    "# Makemore - BatchNorm - Exercises no.3"
   ]
  },
  {
   "cell_type": "markdown",
   "id": "364ab222-c54a-4a57-8509-bb29cc3db94b",
   "metadata": {},
   "source": [
    "## Setup and data"
   ]
  },
  {
   "cell_type": "markdown",
   "id": "2ce7f651-e8d4-4dc9-93e7-26e85be53dc5",
   "metadata": {},
   "source": [
    "### Import packages"
   ]
  },
  {
   "cell_type": "code",
   "execution_count": 3,
   "id": "1aad9495-cbd5-47cf-834b-ad8ba443f3fe",
   "metadata": {},
   "outputs": [],
   "source": [
    "import torch\n",
    "import torch.nn.functional as F\n",
    "import matplotlib.pyplot as plt\n",
    "%matplotlib inline"
   ]
  },
  {
   "cell_type": "markdown",
   "id": "d5365595-a35e-4a89-b7c3-5e127c55859a",
   "metadata": {},
   "source": [
    "### Import data"
   ]
  },
  {
   "cell_type": "code",
   "execution_count": 4,
   "id": "d1834bb5-9d55-467e-94d0-96fbbcc29eb9",
   "metadata": {},
   "outputs": [
    {
     "data": {
      "text/plain": [
       "['emma', 'olivia', 'ava', 'isabella', 'sophia', 'charlotte', 'mia', 'amelia']"
      ]
     },
     "execution_count": 4,
     "metadata": {},
     "output_type": "execute_result"
    }
   ],
   "source": [
    "words = open('../data/names.txt').read().splitlines()\n",
    "words[:8]"
   ]
  },
  {
   "cell_type": "markdown",
   "id": "cb7f9511-08de-4e31-879a-10d79c164654",
   "metadata": {},
   "source": [
    "### Build vocabulary and map to/from integers"
   ]
  },
  {
   "cell_type": "code",
   "execution_count": 7,
   "id": "3753952b-d5d0-4140-b6e8-45777767ad05",
   "metadata": {},
   "outputs": [
    {
     "name": "stdout",
     "output_type": "stream",
     "text": [
      "27\n",
      "{1: 'a', 2: 'b', 3: 'c', 4: 'd', 5: 'e', 6: 'f', 7: 'g', 8: 'h', 9: 'i', 10: 'j', 11: 'k', 12: 'l', 13: 'm', 14: 'n', 15: 'o', 16: 'p', 17: 'q', 18: 'r', 19: 's', 20: 't', 21: 'u', 22: 'v', 23: 'w', 24: 'x', 25: 'y', 26: 'z', 0: '.'}\n"
     ]
    }
   ],
   "source": [
    "chars = sorted(list(set(''.join(words))))\n",
    "itos = {i+1:s for i, s in enumerate(chars)}\n",
    "itos[0] = '.'\n",
    "stoi = {s:i for i, s in itos.items()}\n",
    "vocab_size = len(itos)\n",
    "\n",
    "print(vocab_size)\n",
    "print(itos)"
   ]
  },
  {
   "cell_type": "markdown",
   "id": "04411e37-100e-4c63-82e4-077f3f30469b",
   "metadata": {
    "jupyter": {
     "source_hidden": true
    }
   },
   "source": [
    "### Build dataset splits"
   ]
  },
  {
   "cell_type": "code",
   "execution_count": 8,
   "id": "a75bd0de-7737-4ab3-a880-1dbfd9b3b6be",
   "metadata": {},
   "outputs": [
    {
     "name": "stdout",
     "output_type": "stream",
     "text": [
      "torch.Size([182625, 3]) torch.Size([182625])\n",
      "torch.Size([22655, 3]) torch.Size([22655])\n",
      "torch.Size([22866, 3]) torch.Size([22866])\n"
     ]
    }
   ],
   "source": [
    "block_size = 3\n",
    "\n",
    "def build_dataset(words):\n",
    "    X, Y = [], []\n",
    "    for name in words:\n",
    "        context = [0] * block_size\n",
    "        for char in name + '.':\n",
    "            ix = stoi[char]\n",
    "            X.append(context)\n",
    "            Y.append(ix)\n",
    "            context = context[1:] + [ix]\n",
    "\n",
    "    X = torch.tensor(X)\n",
    "    Y = torch.tensor(Y)\n",
    "    print(X.shape, Y.shape)\n",
    "    return X, Y\n",
    "\n",
    "import random\n",
    "random.seed(42)\n",
    "random.shuffle(words)\n",
    "n1 = int(0.8 * len(words))\n",
    "n2 = int(0.9 * len(words))\n",
    "\n",
    "Xtr, Ytr = build_dataset(words[:n1])\n",
    "Xdev, Ydev = build_dataset(words[n1:n2])\n",
    "Xtst, Ytst = build_dataset(words[n2:])"
   ]
  },
  {
   "cell_type": "markdown",
   "id": "49b515e4-088a-40ec-ab7f-286f183d4ea6",
   "metadata": {},
   "source": [
    "## Neural Network"
   ]
  },
  {
   "cell_type": "markdown",
   "id": "bcf1cb21-64e0-4902-ac7d-1da1efc1b13e",
   "metadata": {},
   "source": [
    "### Layer modules"
   ]
  },
  {
   "cell_type": "code",
   "execution_count": 34,
   "id": "ce6afcfc-57cd-434f-8e5b-b2f9a85f5d6c",
   "metadata": {},
   "outputs": [],
   "source": [
    "class Linear:\n",
    "\n",
    "    def __init__(self, fan_in, fan_out, bias=True):\n",
    "        self.weight = torch.randn((fan_in, fan_out), generator=g) * 0.5\n",
    "        self.bias = torch.zeros(fan_out) if bias else None\n",
    "\n",
    "    def __call__(self, x):\n",
    "        self.out = x @ self.weight\n",
    "        if self.bias is not None:\n",
    "            self.out += self.bias\n",
    "        return self.out\n",
    "\n",
    "    def parameters(self):\n",
    "        return [self.weight] + ([self.bias] if self.bias is not None else [])\n",
    "\n",
    "class BatchNorm1d:\n",
    "\n",
    "    def __init__(self, dim, eps=1e-5, momentum=0.1):\n",
    "        self.eps = eps\n",
    "        self.momentum = momentum\n",
    "        self.training = True\n",
    "        # Parameters\n",
    "        self.gamma = torch.ones(dim)\n",
    "        self.beta = torch.zeros(dim)\n",
    "        # Buffers\n",
    "        self.running_mean = torch.ones(dim)\n",
    "        self.running_var = torch.zeros(dim)\n",
    "\n",
    "    def __call__(self, x):\n",
    "        if self.training:\n",
    "            xmean = x.mean(0, keepdim=True)\n",
    "            xvar = x.var(0, keepdim=True)\n",
    "        else:\n",
    "            xmean = self.running_mean\n",
    "            xvar = self.running_var\n",
    "            \n",
    "        xhat = (x - xmean) / torch.sqrt(xvar + eps)\n",
    "        self.out = self.gamma * xhat + self.beta\n",
    "\n",
    "        if self.training:\n",
    "            with torch.no_grad():\n",
    "                self.running_mean = (1 - self.momentum) * self.running_mean + self.momentum * xmean\n",
    "                self.running_var = (1 - self.momentum) * self.running_var + self.momentum * xvar\n",
    "\n",
    "        return self.out\n",
    "\n",
    "    def parameters(self):\n",
    "        return [self.gamma, self.weight]\n",
    "\n",
    "class Tanh():\n",
    "\n",
    "    def __call__(self, x):\n",
    "        self.out = torch.tanh(x)\n",
    "        return self.out\n",
    "\n",
    "    def parameters(self):\n",
    "        return []"
   ]
  },
  {
   "cell_type": "markdown",
   "id": "5e1c6d6a-a2e1-4a03-8fd5-a9f85fa7ba31",
   "metadata": {},
   "source": [
    "### Neural Network initialisation"
   ]
  },
  {
   "cell_type": "code",
   "execution_count": 81,
   "id": "20bc6a0b-dd55-4d6a-8e0c-33cc8c5e4ac7",
   "metadata": {},
   "outputs": [
    {
     "name": "stdout",
     "output_type": "stream",
     "text": [
      "46497\n"
     ]
    }
   ],
   "source": [
    "n_emb = 10\n",
    "n_hidden = 100\n",
    "g = torch.Generator().manual_seed(2147483647)\n",
    "\n",
    "C = torch.randn((vocab_size, n_emb), generator=g)\n",
    "layers = [\n",
    "    Linear((block_size * n_emb), n_hidden), Tanh(),\n",
    "    Linear(            n_hidden, n_hidden), Tanh(),\n",
    "    Linear(            n_hidden, n_hidden), Tanh(),\n",
    "    Linear(            n_hidden, n_hidden), Tanh(),\n",
    "    Linear(            n_hidden, n_hidden), Tanh(),\n",
    "    Linear(            n_hidden, vocab_size)\n",
    "]\n",
    "\n",
    "# Make last layer less confident\n",
    "layers[-1].weight *= 0.1\n",
    "# Gain on all linear layers\n",
    "for layer in layers:\n",
    "    if isinstance(layer, Linear):\n",
    "        layer.weight *= 1\n",
    "\n",
    "# Parameters\n",
    "parameters = [C] + ([p for layer in layers for p in layer.parameters()])\n",
    "print(sum(p.nelement() for p in parameters))\n",
    "for p in parameters:\n",
    "    p.requires_grad = True"
   ]
  },
  {
   "cell_type": "markdown",
   "id": "0f5668eb-6f8a-43f3-9995-521a15dbc4eb",
   "metadata": {},
   "source": [
    "### Training loop"
   ]
  },
  {
   "cell_type": "code",
   "execution_count": 82,
   "id": "bfe0a8e3-8fda-4be9-9e47-9b2e1b5da1fb",
   "metadata": {},
   "outputs": [
    {
     "name": "stdout",
     "output_type": "stream",
     "text": [
      "      0 / 200000: 3.2474\n"
     ]
    }
   ],
   "source": [
    "max_steps = 200000\n",
    "batch_size = 32\n",
    "lossi = []\n",
    "\n",
    "for i in range(max_steps):\n",
    "\n",
    "    # Build mini batch\n",
    "    ix = torch.randint(0, Xtr.shape[0], (batch_size,), generator=g)\n",
    "    Xb, Yb = Xtr[ix], Ytr[ix]\n",
    "\n",
    "    # Forward pass\n",
    "    emb = C[Xb]\n",
    "    x = emb.view(emb.shape[0], -1)\n",
    "    for layer in layers:\n",
    "        x = layer(x)\n",
    "    loss = F.cross_entropy(x, Yb)\n",
    "\n",
    "    # Backward pass\n",
    "    for layer in layers:\n",
    "        layer.out.retain_grad()\n",
    "    for p in parameters:\n",
    "        p.grad = None\n",
    "    loss.backward()\n",
    "\n",
    "    # Update\n",
    "    lr = 0.1 if i < 100000 else 0.01\n",
    "    for p in parameters:\n",
    "        p.data += -lr * p.grad\n",
    "\n",
    "    # Track stats\n",
    "    if i % 10000 == 0:\n",
    "        print(f'{i:7d} / {max_steps}: {loss.item():.4f}')\n",
    "    lossi.append(loss.log10().item())\n",
    "\n",
    "    if i > 1000:\n",
    "        break"
   ]
  },
  {
   "cell_type": "markdown",
   "id": "5258ab63-893f-4682-95a9-05c1430588e9",
   "metadata": {},
   "source": [
    "## Diagnostics"
   ]
  },
  {
   "cell_type": "markdown",
   "id": "942e37c2-d383-435a-bbde-f5a6056545b7",
   "metadata": {},
   "source": [
    "### Calculate loss per split"
   ]
  },
  {
   "cell_type": "code",
   "execution_count": 83,
   "id": "f5395e43-de2f-450f-b720-3b335f20f450",
   "metadata": {},
   "outputs": [
    {
     "name": "stdout",
     "output_type": "stream",
     "text": [
      "train 2.5208210945129395\n",
      "val 2.5274739265441895\n"
     ]
    }
   ],
   "source": [
    "def split_loss(split):\n",
    "    x, y = {\n",
    "        'train': (Xtr, Ytr),\n",
    "        'val': (Xdev, Ydev),\n",
    "        'test': (Xtst, Ytst)\n",
    "    }[split]\n",
    "\n",
    "    emb = C[x]\n",
    "    x = emb.view(emb.shape[0], -1)\n",
    "    for layer in layers:\n",
    "        x = layer(x)\n",
    "    loss = F.cross_entropy(x, y)\n",
    "\n",
    "    print(split, loss.item())\n",
    "\n",
    "split_loss('train')\n",
    "split_loss('val')"
   ]
  },
  {
   "cell_type": "markdown",
   "id": "e88edb18-254b-4103-b2e1-9c33b2facc41",
   "metadata": {},
   "source": [
    "### Activation Distribution"
   ]
  },
  {
   "cell_type": "markdown",
   "id": "045a20b2-ab86-4a6d-9566-b4cc5bbdd33c",
   "metadata": {},
   "source": [
    "Plot a figure\n",
    "Create a list for the legend\n",
    "Enumerate the layers and for every Tanh layer:\n",
    "    - Print the layer name, mean, std and saturation as a percentage (abs value above 0,97)\n",
    "    - Get the histogram data\n",
    "    - Plot the information\n",
    "    - Add layer to the legend\n",
    "Add legend\n",
    "Add title"
   ]
  },
  {
   "cell_type": "code",
   "execution_count": 84,
   "id": "b7bada58-1430-4fb9-b9bc-b5c9ed54a913",
   "metadata": {},
   "outputs": [
    {
     "name": "stdout",
     "output_type": "stream",
     "text": [
      "layer 1 ( Tanh): mean = -0.07 | std = 0.86 | saturation = 49.23%\n",
      "layer 3 ( Tanh): mean = +0.00 | std = 0.92 | saturation = 67.21%\n",
      "layer 5 ( Tanh): mean = +0.01 | std = 0.93 | saturation = 70.19%\n",
      "layer 7 ( Tanh): mean = -0.01 | std = 0.93 | saturation = 68.28%\n",
      "layer 9 ( Tanh): mean = -0.05 | std = 0.92 | saturation = 67.17%\n"
     ]
    },
    {
     "data": {
      "image/png": "[encoded data removed]",
      "text/plain": [
       "<Figure size 2000x400 with 1 Axes>"
      ]
     },
     "metadata": {},
     "output_type": "display_data"
    }
   ],
   "source": [
    "plt.figure(figsize=(20, 4))\n",
    "legends = []\n",
    "for i, layer in enumerate(layers[:-1]):\n",
    "    if isinstance(layer, Tanh):\n",
    "        t = layer.out\n",
    "        print('layer %d (%5s): mean = %+.2f | std = %.2f | saturation = %.2f%%' % (i, layer.__class__.__name__, t.mean(), t.std(), (t.abs() > 0.97).float().mean()*100))\n",
    "        hy, hx = torch.histogram(t, density=True)\n",
    "        plt.plot(hx[:-1].detach(), hy.detach())"
   ]
  },
  {
   "cell_type": "markdown",
   "id": "0ad3b196-70b0-4129-83cc-28cc4c98dabe",
   "metadata": {},
   "source": [
    "### Gradient Dis"
   ]
  },
  {
   "cell_type": "code",
   "execution_count": null,
   "id": "01262c7c-b7c6-4e91-bd90-4bc964630bce",
   "metadata": {},
   "outputs": [],
   "source": []
  },
  {
   "cell_type": "markdown",
   "id": "ab5c04d0-7b8f-4d5e-a6ec-da0004efa83a",
   "metadata": {},
   "source": [
    "### Weights Gradient Distribution"
   ]
  },
  {
   "cell_type": "code",
   "execution_count": null,
   "id": "062257cd-462c-41da-8461-e8b0888c925a",
   "metadata": {},
   "outputs": [],
   "source": []
  },
  {
   "cell_type": "markdown",
   "id": "a353ccc7-8b39-47b0-9e18-756457577cbb",
   "metadata": {},
   "source": [
    "### Weights Update Ratio"
   ]
  },
  {
   "cell_type": "code",
   "execution_count": null,
   "id": "31504aea-23a5-4c1d-b517-58100ef44ede",
   "metadata": {},
   "outputs": [],
   "source": []
  }
 ],
 "metadata": {
  "kernelspec": {
   "display_name": "Python 3 (ipykernel)",
   "language": "python",
   "name": "python3"
  },
  "language_info": {
   "codemirror_mode": {
    "name": "ipython",
    "version": 3
   },
   "file_extension": ".py",
   "mimetype": "text/x-python",
   "name": "python",
   "nbconvert_exporter": "python",
   "pygments_lexer": "ipython3",
   "version": "3.11.5"
  }
 },
 "nbformat": 4,
 "nbformat_minor": 5
}
