{
 "cells": [
  {
   "cell_type": "markdown",
   "id": "b28aeee8-3112-413a-89fe-9e44c92acb11",
   "metadata": {},
   "source": [
    "# Kata for Makemore pt. 3"
   ]
  },
  {
   "cell_type": "markdown",
   "id": "673cb945-14cb-4539-9e77-af037a42d421",
   "metadata": {},
   "source": [
    "## Importing packages"
   ]
  },
  {
   "cell_type": "code",
   "execution_count": 2,
   "id": "4f43e94b-20e7-41c3-a5ef-04f2cd0ab5aa",
   "metadata": {},
   "outputs": [],
   "source": [
    "import torch\n",
    "import torch.nn.functional as F\n",
    "import matplotlib.pyplot as plt\n",
    "%matplotlib inline"
   ]
  },
  {
   "cell_type": "markdown",
   "id": "0484c07a-c16c-4c2f-94f3-38cdabb9dc59",
   "metadata": {},
   "source": [
    "## Importing data"
   ]
  },
  {
   "cell_type": "code",
   "execution_count": 3,
   "id": "22873c2e-e1cb-4930-8c90-0c60ac4415df",
   "metadata": {},
   "outputs": [
    {
     "data": {
      "text/plain": [
       "['emma', 'olivia', 'ava', 'isabella', 'sophia', 'charlotte', 'mia', 'amelia']"
      ]
     },
     "execution_count": 3,
     "metadata": {},
     "output_type": "execute_result"
    }
   ],
   "source": [
    "words = open('../data/names.txt').read().splitlines()\n",
    "words[:8]"
   ]
  },
  {
   "cell_type": "markdown",
   "id": "869245b7-d0cb-4259-bb37-b2215ea3ed61",
   "metadata": {},
   "source": [
    "## Build vocabulary and map to/from integers"
   ]
  },
  {
   "cell_type": "code",
   "execution_count": 12,
   "id": "34060384-0de6-45aa-a9e2-744a7bde2ca1",
   "metadata": {},
   "outputs": [
    {
     "name": "stdout",
     "output_type": "stream",
     "text": [
      "27\n",
      "{1: 'a', 2: 'b', 3: 'c', 4: 'd', 5: 'e', 6: 'f', 7: 'g', 8: 'h', 9: 'i', 10: 'j', 11: 'k', 12: 'l', 13: 'm', 14: 'n', 15: 'o', 16: 'p', 17: 'q', 18: 'r', 19: 's', 20: 't', 21: 'u', 22: 'v', 23: 'w', 24: 'x', 25: 'y', 26: 'z', 0: '.'}\n"
     ]
    }
   ],
   "source": [
    "chars = sorted(list(set(''.join(words))))\n",
    "itos = {i+1:s for i, s in enumerate(chars)}\n",
    "itos[0] = '.'\n",
    "stoi = {s:i for i, s in itos.items()}\n",
    "vocab_size = len(itos)\n",
    "\n",
    "print(vocab_size)\n",
    "print(itos)"
   ]
  },
  {
   "cell_type": "markdown",
   "id": "cd32c535-3c52-4772-b3bd-23fd0907b630",
   "metadata": {},
   "source": [
    "## Build the dataset splits"
   ]
  },
  {
   "cell_type": "code",
   "execution_count": 13,
   "id": "a081db8b-34da-404b-ad91-2b66eb37d643",
   "metadata": {},
   "outputs": [
    {
     "name": "stdout",
     "output_type": "stream",
     "text": [
      "torch.Size([182625, 3]) torch.Size([182625, 3])\n",
      "torch.Size([22655, 3]) torch.Size([22655, 3])\n",
      "torch.Size([22866, 3]) torch.Size([22866, 3])\n"
     ]
    }
   ],
   "source": [
    "block_size = 3\n",
    "\n",
    "def build_dataset(words):\n",
    "    X, Y = [], []\n",
    "    for name in words:\n",
    "        context = [0] * block_size\n",
    "        for char in name + '.':\n",
    "            ix = stoi[char]\n",
    "            X.append(context)\n",
    "            Y.append(context)\n",
    "            context = context[1:] + [ix]\n",
    "\n",
    "    X = torch.tensor(X)\n",
    "    Y = torch.tensor(Y)\n",
    "    print(X.shape, Y.shape)\n",
    "\n",
    "    return X, Y\n",
    "\n",
    "import random\n",
    "random.seed(42)\n",
    "random.shuffle(words)\n",
    "n1 = int(0.8 * len(words))\n",
    "n2 = int(0.9 * len(words))\n",
    "\n",
    "Xtr, Ytr = build_dataset(words[:n1])\n",
    "Xdev, Ydev = build_dataset(words[n1:n2])\n",
    "Xte, Yte = build_dataset(words[n2:])\n"
   ]
  },
  {
   "cell_type": "markdown",
   "id": "77e95261-24cf-42c0-a723-bfde13d2ae95",
   "metadata": {},
   "source": [
    "## Modules"
   ]
  },
  {
   "cell_type": "code",
   "execution_count": 39,
   "id": "8e5dafd1-8fbf-4d7d-8dab-d0bd4d657033",
   "metadata": {},
   "outputs": [],
   "source": [
    "# Linear layer\n",
    "class Linear:\n",
    "\n",
    "    def __init__(self, fan_in, fan_out, bias=True):\n",
    "        self.weights = torch.randn((fan_in, fan_out)) * 0.5\n",
    "        self.bias = torch.zeros(fan_out) if bias else None\n",
    "        self.use_bias = bias\n",
    "\n",
    "    def __call__(self, x):\n",
    "        out = x @ self.weights\n",
    "        if self.use_bias:\n",
    "            out += self.bias\n",
    "        return out\n",
    "\n",
    "    def parameters(self):\n",
    "        return [self.weights, self.bias]\n",
    "\n",
    "# Batch normalisation layer\n",
    "class BatchNorm1d:\n",
    "\n",
    "    def __init__(self, dim, eps=1e-5, momentum=0.1):\n",
    "        self.eps = eps\n",
    "        self.momentum = momentum\n",
    "        self.gain = torch.ones(dim)\n",
    "        self.bias = torch.zeros(dim)\n",
    "        self.mean_running = torch.zeros(dim)\n",
    "        self.std_running = torch.ones(dim)\n",
    "        self.training = True\n",
    "\n",
    "    def __call__(self, x):\n",
    "        if self.training:\n",
    "            self.mean_running = (1 - momentum) * self.mean_running + momentum * xmean\n",
    "            self.std_running = (1 - momentum) * self.std_running + momentum * xstd\n",
    "        xmean = x.mean(1, keepdim=True)\n",
    "        xstd = x.std(1, keepdim=True)\n",
    "        out = self.gain * ((x - xmean) / xstd) + self.bias\n",
    "        return out\n",
    "\n",
    "    def parameters(self):\n",
    "        return [self.gain, self.bias]\n",
    "\n",
    "# Tanh\n",
    "class Tanh:\n",
    "\n",
    "    def __call__(self, x):\n",
    "        out = torch.tanh(x)\n",
    "        return out\n",
    "\n",
    "    def parameters(self):\n",
    "        return []"
   ]
  },
  {
   "cell_type": "markdown",
   "id": "ee1e6764-444d-4ca4-b4ff-1ae5f810836e",
   "metadata": {},
   "source": [
    "## Instantiate the Neural Network"
   ]
  },
  {
   "cell_type": "code",
   "execution_count": 40,
   "id": "b896012a-26b7-415e-90ce-67e8b42cfd91",
   "metadata": {},
   "outputs": [],
   "source": [
    "n_emb = 10\n",
    "n_hidden = 100\n",
    "\n",
    "C = torch.randn((vocab_size, n_emb))\n",
    "layers = [\n",
    "    Linear((block_size * n_emb), n_hidden), Tanh(),\n",
    "    Linear(            n_hidden, n_hidden), Tanh(),\n",
    "    Linear(            n_hidden, n_hidden), Tanh(),\n",
    "    Linear(            n_hidden, n_hidden), Tanh(),\n",
    "    Linear(            n_hidden, n_hidden), Tanh(),\n",
    "    Linear(            n_hidden, vocab_size)\n",
    "]"
   ]
  },
  {
   "cell_type": "markdown",
   "id": "581ad3d8-7535-4286-8809-c99f2cc45a3a",
   "metadata": {},
   "source": [
    "## Training loop"
   ]
  },
  {
   "cell_type": "code",
   "execution_count": 42,
   "id": "e112b555-60b6-4838-9c72-5d802cad1e01",
   "metadata": {},
   "outputs": [
    {
     "name": "stdout",
     "output_type": "stream",
     "text": [
      "torch.Size([32, 3])\n"
     ]
    },
    {
     "ename": "RuntimeError",
     "evalue": "0D or 1D target tensor expected, multi-target not supported",
     "output_type": "error",
     "traceback": [
      "\u001b[0;31m---------------------------------------------------------------------------\u001b[0m",
      "\u001b[0;31mRuntimeError\u001b[0m                              Traceback (most recent call last)",
      "Cell \u001b[0;32mIn[42], line 17\u001b[0m\n\u001b[1;32m     15\u001b[0m \u001b[38;5;28;01mfor\u001b[39;00m layer \u001b[38;5;129;01min\u001b[39;00m layers:\n\u001b[1;32m     16\u001b[0m      out \u001b[38;5;241m=\u001b[39m layer(out)\n\u001b[0;32m---> 17\u001b[0m loss \u001b[38;5;241m=\u001b[39m \u001b[43mF\u001b[49m\u001b[38;5;241;43m.\u001b[39;49m\u001b[43mcross_entropy\u001b[49m\u001b[43m(\u001b[49m\u001b[43mout\u001b[49m\u001b[43m,\u001b[49m\u001b[43m \u001b[49m\u001b[43mYb\u001b[49m\u001b[43m)\u001b[49m\n\u001b[1;32m     19\u001b[0m \u001b[38;5;66;03m# Backward pass\u001b[39;00m\n\u001b[1;32m     20\u001b[0m \u001b[38;5;28;01mfor\u001b[39;00m p \u001b[38;5;129;01min\u001b[39;00m parameters:\n",
      "File \u001b[0;32m/Library/Frameworks/Python.framework/Versions/3.11/lib/python3.11/site-packages/torch/nn/functional.py:3494\u001b[0m, in \u001b[0;36mcross_entropy\u001b[0;34m(input, target, weight, size_average, ignore_index, reduce, reduction, label_smoothing)\u001b[0m\n\u001b[1;32m   3492\u001b[0m \u001b[38;5;28;01mif\u001b[39;00m size_average \u001b[38;5;129;01mis\u001b[39;00m \u001b[38;5;129;01mnot\u001b[39;00m \u001b[38;5;28;01mNone\u001b[39;00m \u001b[38;5;129;01mor\u001b[39;00m reduce \u001b[38;5;129;01mis\u001b[39;00m \u001b[38;5;129;01mnot\u001b[39;00m \u001b[38;5;28;01mNone\u001b[39;00m:\n\u001b[1;32m   3493\u001b[0m     reduction \u001b[38;5;241m=\u001b[39m _Reduction\u001b[38;5;241m.\u001b[39mlegacy_get_string(size_average, reduce)\n\u001b[0;32m-> 3494\u001b[0m \u001b[38;5;28;01mreturn\u001b[39;00m \u001b[43mtorch\u001b[49m\u001b[38;5;241;43m.\u001b[39;49m\u001b[43m_C\u001b[49m\u001b[38;5;241;43m.\u001b[39;49m\u001b[43m_nn\u001b[49m\u001b[38;5;241;43m.\u001b[39;49m\u001b[43mcross_entropy_loss\u001b[49m\u001b[43m(\u001b[49m\n\u001b[1;32m   3495\u001b[0m \u001b[43m    \u001b[49m\u001b[38;5;28;43minput\u001b[39;49m\u001b[43m,\u001b[49m\n\u001b[1;32m   3496\u001b[0m \u001b[43m    \u001b[49m\u001b[43mtarget\u001b[49m\u001b[43m,\u001b[49m\n\u001b[1;32m   3497\u001b[0m \u001b[43m    \u001b[49m\u001b[43mweight\u001b[49m\u001b[43m,\u001b[49m\n\u001b[1;32m   3498\u001b[0m \u001b[43m    \u001b[49m\u001b[43m_Reduction\u001b[49m\u001b[38;5;241;43m.\u001b[39;49m\u001b[43mget_enum\u001b[49m\u001b[43m(\u001b[49m\u001b[43mreduction\u001b[49m\u001b[43m)\u001b[49m\u001b[43m,\u001b[49m\n\u001b[1;32m   3499\u001b[0m \u001b[43m    \u001b[49m\u001b[43mignore_index\u001b[49m\u001b[43m,\u001b[49m\n\u001b[1;32m   3500\u001b[0m \u001b[43m    \u001b[49m\u001b[43mlabel_smoothing\u001b[49m\u001b[43m,\u001b[49m\n\u001b[1;32m   3501\u001b[0m \u001b[43m\u001b[49m\u001b[43m)\u001b[49m\n",
      "\u001b[0;31mRuntimeError\u001b[0m: 0D or 1D target tensor expected, multi-target not supported"
     ]
    }
   ],
   "source": [
    "max_steps = 2000\n",
    "batch_size = 32\n",
    "lossi = []\n",
    "\n",
    "for i in range(max_steps):\n",
    "\n",
    "    # Build mini batch\n",
    "    ix = torch.randint(0, Xtr.shape[0], (batch_size,))\n",
    "    Xb, Yb = Xtr[ix], Ytr[ix]\n",
    "    print(Yb.shape)\n",
    "\n",
    "    # Forward pass\n",
    "    out = C[Xb]\n",
    "    out = out.view(out.shape[0], -1)\n",
    "    for layer in layers:\n",
    "         out = layer(out)\n",
    "    loss = F.cross_entropy(out, Yb)\n",
    "\n",
    "    # Backward pass\n",
    "    for p in parameters:\n",
    "        p.grad = None\n",
    "    loss.backward()\n",
    "\n",
    "    # Update\n",
    "    lr = 0.1 if max_steps < 100000 else 0.01\n",
    "    for p in parameters:\n",
    "        p.data += -lr * p.grad\n",
    "\n",
    "    # Track stats\n",
    "    if i % 10000 == 0:\n",
    "        print(f'{i:7d} / {max_steps}: {loss}')\n",
    "    lossi.append(loss.log10().item())"
   ]
  },
  {
   "cell_type": "markdown",
   "id": "a898e428-26ef-4ffd-9095-c1b14eb03240",
   "metadata": {},
   "source": [
    "## Diagnostic tools"
   ]
  },
  {
   "cell_type": "markdown",
   "id": "0a45e364-afe2-496a-b0fd-c73c163c5478",
   "metadata": {},
   "source": [
    "### Activation distribution"
   ]
  },
  {
   "cell_type": "markdown",
   "id": "f4bd25d3-724c-4495-9a4b-19542f787ee2",
   "metadata": {},
   "source": [
    "### Gradient distribution"
   ]
  },
  {
   "cell_type": "markdown",
   "id": "ade0e97c-6e05-4a40-a121-5389d8614622",
   "metadata": {},
   "source": [
    "### Weights gradient activation"
   ]
  },
  {
   "cell_type": "markdown",
   "id": "ab19dad7-6af8-4464-a8fa-e1f12a20fab4",
   "metadata": {},
   "source": [
    "### Weights update ratio"
   ]
  },
  {
   "cell_type": "code",
   "execution_count": null,
   "id": "251792ae-e891-43f8-b816-8e27a85c7307",
   "metadata": {},
   "outputs": [],
   "source": []
  }
 ],
 "metadata": {
  "kernelspec": {
   "display_name": "Python 3 (ipykernel)",
   "language": "python",
   "name": "python3"
  },
  "language_info": {
   "codemirror_mode": {
    "name": "ipython",
    "version": 3
   },
   "file_extension": ".py",
   "mimetype": "text/x-python",
   "name": "python",
   "nbconvert_exporter": "python",
   "pygments_lexer": "ipython3",
   "version": "3.11.5"
  }
 },
 "nbformat": 4,
 "nbformat_minor": 5
}
