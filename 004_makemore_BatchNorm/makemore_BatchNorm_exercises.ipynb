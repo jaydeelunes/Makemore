{
 "cells": [
  {
   "cell_type": "markdown",
   "id": "b28aeee8-3112-413a-89fe-9e44c92acb11",
   "metadata": {},
   "source": [
    "# Kata for Makemore pt. 3"
   ]
  },
  {
   "cell_type": "markdown",
   "id": "673cb945-14cb-4539-9e77-af037a42d421",
   "metadata": {},
   "source": [
    "## Importing packages"
   ]
  },
  {
   "cell_type": "code",
   "execution_count": 2,
   "id": "4f43e94b-20e7-41c3-a5ef-04f2cd0ab5aa",
   "metadata": {},
   "outputs": [],
   "source": [
    "import torch\n",
    "import torch.nn.functional as F\n",
    "import matplotlib.pyplot as plt\n",
    "%matplotlib inline"
   ]
  },
  {
   "cell_type": "markdown",
   "id": "0484c07a-c16c-4c2f-94f3-38cdabb9dc59",
   "metadata": {},
   "source": [
    "## Importing data"
   ]
  },
  {
   "cell_type": "code",
   "execution_count": 1,
   "id": "22873c2e-e1cb-4930-8c90-0c60ac4415df",
   "metadata": {},
   "outputs": [
    {
     "data": {
      "text/plain": [
       "['emma', 'olivia', 'ava', 'isabella', 'sophia', 'charlotte', 'mia', 'amelia']"
      ]
     },
     "execution_count": 1,
     "metadata": {},
     "output_type": "execute_result"
    }
   ],
   "source": [
    "words = open('../data/names.txt').read().splitlines()\n",
    "words[:8]"
   ]
  },
  {
   "cell_type": "markdown",
   "id": "869245b7-d0cb-4259-bb37-b2215ea3ed61",
   "metadata": {},
   "source": [
    "## Build vocabulary and map to/from integers"
   ]
  },
  {
   "cell_type": "markdown",
   "id": "cd32c535-3c52-4772-b3bd-23fd0907b630",
   "metadata": {},
   "source": [
    "## Build the dataset splits"
   ]
  },
  {
   "cell_type": "markdown",
   "id": "77e95261-24cf-42c0-a723-bfde13d2ae95",
   "metadata": {},
   "source": [
    "## Modules"
   ]
  },
  {
   "cell_type": "code",
   "execution_count": 5,
   "id": "8e5dafd1-8fbf-4d7d-8dab-d0bd4d657033",
   "metadata": {},
   "outputs": [
    {
     "ename": "IndentationError",
     "evalue": "expected an indented block after function definition on line 4 (311447316.py, line 6)",
     "output_type": "error",
     "traceback": [
      "  \u001b[36mCell\u001b[39m\u001b[36m \u001b[39m\u001b[32mIn[5]\u001b[39m\u001b[32m, line 6\u001b[39m\n\u001b[31m    \u001b[39m\u001b[31mdef __call__(self, x):\u001b[39m\n    ^\n\u001b[31mIndentationError\u001b[39m\u001b[31m:\u001b[39m expected an indented block after function definition on line 4\n"
     ]
    }
   ],
   "source": [
    "# Linear layer\n",
    "class Linear:\n",
    "\n",
    "    def __init__(self, fan_in, fan_out, bias=True):\n",
    "\n",
    "    def __call__(self, x):\n",
    "\n",
    "    def parameters(self):\n",
    "        \n",
    "\n",
    "# Batch normalisation layer\n",
    "class BatchNorm1d:\n",
    "\n",
    "    def __init__(self, dim, eps=1e-5, momentum=0.1):\n",
    "\n",
    "    def __call__(self, x):\n",
    "\n",
    "    def parameters(self):\n",
    "\n",
    "# Tanh\n",
    "class Tanh:\n",
    "\n",
    "    def __call__(self, x):\n",
    "        out = torch.tanh(x)\n",
    "        return self.out\n",
    "\n",
    "    def parameters(self):\n",
    "        return []"
   ]
  },
  {
   "cell_type": "markdown",
   "id": "ee1e6764-444d-4ca4-b4ff-1ae5f810836e",
   "metadata": {},
   "source": [
    "## Instantiate the Neural Network"
   ]
  },
  {
   "cell_type": "markdown",
   "id": "581ad3d8-7535-4286-8809-c99f2cc45a3a",
   "metadata": {},
   "source": [
    "## Training loop"
   ]
  },
  {
   "cell_type": "markdown",
   "id": "a898e428-26ef-4ffd-9095-c1b14eb03240",
   "metadata": {},
   "source": [
    "## Diagnostic tools"
   ]
  },
  {
   "cell_type": "markdown",
   "id": "0a45e364-afe2-496a-b0fd-c73c163c5478",
   "metadata": {},
   "source": [
    "### Activation distribution"
   ]
  },
  {
   "cell_type": "markdown",
   "id": "f4bd25d3-724c-4495-9a4b-19542f787ee2",
   "metadata": {},
   "source": [
    "### Gradient distribution"
   ]
  },
  {
   "cell_type": "markdown",
   "id": "ade0e97c-6e05-4a40-a121-5389d8614622",
   "metadata": {},
   "source": [
    "### Weights gradient activation"
   ]
  },
  {
   "cell_type": "markdown",
   "id": "ab19dad7-6af8-4464-a8fa-e1f12a20fab4",
   "metadata": {},
   "source": [
    "### Weights update ratio"
   ]
  },
  {
   "cell_type": "code",
   "execution_count": null,
   "id": "251792ae-e891-43f8-b816-8e27a85c7307",
   "metadata": {},
   "outputs": [],
   "source": []
  }
 ],
 "metadata": {
  "kernelspec": {
   "display_name": "Python 3 (ipykernel)",
   "language": "python",
   "name": "python3"
  },
  "language_info": {
   "codemirror_mode": {
    "name": "ipython",
    "version": 3
   },
   "file_extension": ".py",
   "mimetype": "text/x-python",
   "name": "python",
   "nbconvert_exporter": "python",
   "pygments_lexer": "ipython3",
   "version": "3.12.3"
  }
 },
 "nbformat": 4,
 "nbformat_minor": 5
}
