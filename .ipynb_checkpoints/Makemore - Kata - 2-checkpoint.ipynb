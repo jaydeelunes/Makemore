{
 "cells": [
  {
   "cell_type": "markdown",
   "id": "1787c009-f03f-4ea7-9dd2-d476a08930c3",
   "metadata": {},
   "source": [
    "## Import packages"
   ]
  },
  {
   "cell_type": "code",
   "execution_count": 1,
   "id": "a50716ad-4973-4bd3-8d0e-c2d4bdd344ee",
   "metadata": {},
   "outputs": [],
   "source": [
    "import torch\n",
    "import torch.nn.functional as F\n",
    "import matplotlib.pyplot as plt\n",
    "%matplotlib inline"
   ]
  },
  {
   "cell_type": "markdown",
   "id": "3165fe78-e549-460c-b47a-16f61e979302",
   "metadata": {},
   "source": [
    "## Import data"
   ]
  },
  {
   "cell_type": "code",
   "execution_count": 3,
   "id": "a457e6e1-9e98-4479-a1ea-732c200869f5",
   "metadata": {},
   "outputs": [
    {
     "data": {
      "text/plain": [
       "['emma', 'olivia', 'ava', 'isabella', 'sophia', 'charlotte', 'mia', 'amelia']"
      ]
     },
     "execution_count": 3,
     "metadata": {},
     "output_type": "execute_result"
    }
   ],
   "source": [
    "words = open('Makemore/names.txt').read().splitlines()\n",
    "words[:8]"
   ]
  },
  {
   "cell_type": "code",
   "execution_count": 12,
   "id": "e06ef20b-0f97-48ab-9a57-fc030d287998",
   "metadata": {},
   "outputs": [
    {
     "data": {
      "text/plain": [
       "32033"
      ]
     },
     "execution_count": 12,
     "metadata": {},
     "output_type": "execute_result"
    }
   ],
   "source": [
    "len(words)"
   ]
  },
  {
   "cell_type": "markdown",
   "id": "5b678641-9663-495d-91ea-1465d31755f8",
   "metadata": {},
   "source": [
    "## Get the vocabulary and index from/to integers"
   ]
  },
  {
   "cell_type": "code",
   "execution_count": 10,
   "id": "245725ba-d793-4997-8a32-6736a4d859f5",
   "metadata": {},
   "outputs": [
    {
     "name": "stdout",
     "output_type": "stream",
     "text": [
      "vocab_size: 27\n",
      "itos: {1: 'a', 2: 'b', 3: 'c', 4: 'd', 5: 'e', 6: 'f', 7: 'g', 8: 'h', 9: 'i', 10: 'j', 11: 'k', 12: 'l', 13: 'm', 14: 'n', 15: 'o', 16: 'p', 17: 'q', 18: 'r', 19: 's', 20: 't', 21: 'u', 22: 'v', 23: 'w', 24: 'x', 25: 'y', 26: 'z', 0: '.'}\n"
     ]
    }
   ],
   "source": [
    "chars = sorted(list(set(''.join(words))))\n",
    "itos = {i+1:s for i, s in enumerate(chars)}\n",
    "itos[0] = '.'\n",
    "stoi = {s:i for i, s in itos.items()}\n",
    "vocab_size = len(itos)\n",
    "\n",
    "print(f'vocab_size: {vocab_size}')\n",
    "print(f'itos: {itos}')"
   ]
  },
  {
   "cell_type": "markdown",
   "id": "c8d9120f-edad-4641-bd24-030650a1187a",
   "metadata": {},
   "source": [
    "## Build the dataset splits"
   ]
  },
  {
   "cell_type": "code",
   "execution_count": 115,
   "id": "de82ec31-ff5e-449e-86d8-a0b0948f6e4a",
   "metadata": {},
   "outputs": [
    {
     "name": "stdout",
     "output_type": "stream",
     "text": [
      "torch.Size([182661, 4]) torch.Size([182661])\n",
      "torch.Size([22763, 4]) torch.Size([22763])\n",
      "torch.Size([22722, 4]) torch.Size([22722])\n"
     ]
    }
   ],
   "source": [
    "block_size = 4\n",
    "\n",
    "def build_dataset(words):\n",
    "    X, Y = [], []\n",
    "    for name in words:\n",
    "        context = [0] * block_size\n",
    "        for char in name + '.':\n",
    "            ix = stoi[char]\n",
    "            X.append(context)\n",
    "            Y.append(ix)\n",
    "            context = context[1:] + [ix]\n",
    "\n",
    "    X = torch.tensor(X)\n",
    "    Y = torch.tensor(Y)\n",
    "    print(X.shape, Y.shape)\n",
    "    return X, Y\n",
    "\n",
    "import random\n",
    "random.seed(42)\n",
    "random.shuffle(words)\n",
    "n1 = int(0.8 * len(words))\n",
    "n2 = int(0.9 * len(words))\n",
    "\n",
    "Xtr, Ytr = build_dataset(words[:n1])\n",
    "Xdev, Ydev = build_dataset(words[n1:n2])\n",
    "Xte, Yte = build_dataset(words[n2:])"
   ]
  },
  {
   "cell_type": "markdown",
   "id": "7c3b584a-5845-47cd-97c1-ae43baa4b243",
   "metadata": {},
   "source": [
    "## Initialize the network"
   ]
  },
  {
   "cell_type": "code",
   "execution_count": 134,
   "id": "1e14ddda-6f7b-4754-92f4-0891a34a7b0a",
   "metadata": {},
   "outputs": [
    {
     "name": "stdout",
     "output_type": "stream",
     "text": [
      "21297\n"
     ]
    }
   ],
   "source": [
    "n_emb = 10\n",
    "n_hidden = 300\n",
    "\n",
    "g = torch.Generator().manual_seed(2147483647)\n",
    "C = torch.randn((vocab_size, n_emb),             generator=g)\n",
    "W1 = torch.randn((block_size * n_emb, n_hidden), generator=g) * ((5/3) / (block_size * n_emb)**0.5)\n",
    "b1 = torch.randn(n_hidden,                       generator=g) * 0.01\n",
    "W2 = torch.randn((n_hidden, vocab_size),         generator=g) * 0.01\n",
    "b2 = torch.randn(vocab_size,                     generator=g) * 0\n",
    "\n",
    "bngain = torch.ones((1, n_hidden))\n",
    "bnbias = torch.zeros((1, n_hidden))\n",
    "bnmean_running = torch.zeros((1, n_hidden))\n",
    "bnstd_running = torch.ones((1, n_hidden))\n",
    "\n",
    "parameters = [C, W1, b1, W2, b2, bngain, bnbias]\n",
    "for p in parameters:\n",
    "    p.requires_grad = True\n",
    "\n",
    "print(sum(p.nelement() for p in parameters))"
   ]
  },
  {
   "cell_type": "markdown",
   "id": "7cba049e-415f-4096-9821-5e34827c877a",
   "metadata": {},
   "source": [
    "## Training the network"
   ]
  },
  {
   "cell_type": "code",
   "execution_count": 136,
   "id": "8d61d7df-55ea-430e-bde9-8de6a9b92fea",
   "metadata": {},
   "outputs": [
    {
     "name": "stdout",
     "output_type": "stream",
     "text": [
      "      0 / 200000: 3.3027596473693848\n",
      "  10000 / 200000: 2.3032450675964355\n",
      "  20000 / 200000: 2.18991756439209\n",
      "  30000 / 200000: 2.158769130706787\n",
      "  40000 / 200000: 2.188647985458374\n",
      "  50000 / 200000: 2.1731643676757812\n",
      "  60000 / 200000: 1.6996192932128906\n",
      "  70000 / 200000: 2.172327995300293\n",
      "  80000 / 200000: 2.2496306896209717\n",
      "  90000 / 200000: 1.682457447052002\n",
      " 100000 / 200000: 2.2272353172302246\n",
      " 110000 / 200000: 1.5310893058776855\n",
      " 120000 / 200000: 1.8751857280731201\n",
      " 130000 / 200000: 2.047105073928833\n",
      " 140000 / 200000: 1.8870124816894531\n",
      " 150000 / 200000: 2.2754878997802734\n",
      " 160000 / 200000: 1.9724897146224976\n",
      " 170000 / 200000: 2.352630376815796\n",
      " 180000 / 200000: 2.216130018234253\n",
      " 190000 / 200000: 1.9758658409118652\n"
     ]
    }
   ],
   "source": [
    "max_steps = 200000\n",
    "batch_size = 32\n",
    "lossi = []\n",
    "\n",
    "for i in range(max_steps):\n",
    "\n",
    "    #Get batch\n",
    "    ixs = torch.randint(0, Xtr.shape[0], (batch_size,), generator=g)\n",
    "    Xb, Yb = Xtr[ixs], Ytr[ixs]\n",
    "\n",
    "    # Forward pass\n",
    "    emb = C[Xb] # Embedding the inputs into vectors\n",
    "    embcat = emb.view(Xb.shape[0], -1) # Concatenating the vectors\n",
    "    \n",
    "    hpreact = embcat @ W1 + b1 # Hidden layer pre-activation\n",
    "    bnmeani = hpreact.mean(0, keepdims=True)\n",
    "    bnstdi = hpreact.std(0, keepdims=True)\n",
    "    hpreact = bngain * ((hpreact - bnmeani) / bnstdi) + bnbias\n",
    "\n",
    "    with torch.no_grad():\n",
    "        bnmean_running = 0.999 * bnmean_running + 0.001 * bnmeani\n",
    "        bnstd_running = 0.999 * bnstd_running + 0.001 * bnstdi\n",
    "    \n",
    "    h = torch.tanh(hpreact) # Hidden layer\n",
    "    logits = h @ W2 + b2 # Outputs\n",
    "    loss = F.cross_entropy(logits, Yb)\n",
    "\n",
    "    # Backward pass\n",
    "    for p in parameters:\n",
    "        p.grad = None\n",
    "    loss.backward()\n",
    "\n",
    "    # Update\n",
    "    lr = 0.1 if i < 50000 else 0.05 if i < 100000 else 0.01 if i < 150000 else 0.005\n",
    "    for p in parameters:\n",
    "        p.data += -lr * p.grad\n",
    "\n",
    "    # Track stats\n",
    "    lossi.append(loss.log10().item())\n",
    "    if i % 10000 == 0:\n",
    "        print(f'{i:7d} / {max_steps}: {loss}')"
   ]
  },
  {
   "cell_type": "code",
   "execution_count": 137,
   "id": "1c249e02-67ef-49a1-90c8-14715a3627db",
   "metadata": {},
   "outputs": [
    {
     "data": {
      "text/plain": [
       "[<matplotlib.lines.Line2D at 0x13b457d10>]"
      ]
     },
     "execution_count": 137,
     "metadata": {},
     "output_type": "execute_result"
    },
    {
     "data": {
      "image/png": "[encoded data removed]",
      "text/plain": [
       "<Figure size 640x480 with 1 Axes>"
      ]
     },
     "metadata": {},
     "output_type": "display_data"
    }
   ],
   "source": [
    "plt.plot(lossi)"
   ]
  },
  {
   "cell_type": "markdown",
   "id": "d025dd54-27e3-4566-995e-5b255519e4cb",
   "metadata": {},
   "source": [
    "## Get the loss per split"
   ]
  },
  {
   "cell_type": "code",
   "execution_count": 138,
   "id": "7b85f787-9894-40a8-8446-692aa4e6f62c",
   "metadata": {},
   "outputs": [
    {
     "name": "stdout",
     "output_type": "stream",
     "text": [
      "train tensor(1.9697)\n",
      "val tensor(2.0321)\n"
     ]
    }
   ],
   "source": [
    "@torch.no_grad()\n",
    "def split_loss(split):\n",
    "    # Select split\n",
    "    x, y = {\n",
    "        'train': (Xtr, Ytr),\n",
    "        'val': (Xdev, Ydev),\n",
    "        'test': (Xte, Yte)\n",
    "    }[split]\n",
    "\n",
    "    # Forward pass\n",
    "    emb = C[x]\n",
    "    embcat = emb.view(x.shape[0], -1)\n",
    "    hpreact = embcat @ W1 + b1\n",
    "    hpreact = bngain * ((hpreact - bnmean_running) / bnstd_running) + bnbias\n",
    "    h = torch.tanh(hpreact)\n",
    "    logits = h @ W2 + b2\n",
    "    loss = F.cross_entropy(logits, y)\n",
    "\n",
    "    #Print\n",
    "    print(split, loss)\n",
    "\n",
    "split_loss('train')\n",
    "split_loss('val')"
   ]
  },
  {
   "cell_type": "markdown",
   "id": "99f79a11-e421-4d3e-94e4-d3718e9cc48b",
   "metadata": {},
   "source": [
    "## Sample from the network"
   ]
  },
  {
   "cell_type": "code",
   "execution_count": 144,
   "id": "0c54d404-9c37-47bb-b0eb-f734f2094393",
   "metadata": {},
   "outputs": [
    {
     "name": "stdout",
     "output_type": "stream",
     "text": [
      "carmah.\n",
      "ambriella.\n",
      "jarson.\n",
      "aty.\n",
      "skaan.\n",
      "kenleigh.\n",
      "faresyncie.\n",
      "quiyn.\n",
      "kasia.\n",
      "chaily.\n",
      "kaleigh.\n",
      "hamond.\n",
      "miquinten.\n",
      "lilea.\n",
      "jadiquon.\n",
      "elogiefryn.\n",
      "kailee.\n",
      "dura.\n",
      "medde.\n",
      "oillette.\n"
     ]
    }
   ],
   "source": [
    "g = torch.Generator().manual_seed(2147483647 + 10)\n",
    "\n",
    "for _ in range (20):\n",
    "    out = []\n",
    "    context = [0] * block_size\n",
    "    while True:\n",
    "        emb = C[torch.tensor([context])]\n",
    "        embcat = emb.view(emb.shape[0], -1)\n",
    "        hpreact = embcat @ W1 + b1\n",
    "        hpreact = bngain * ((hpreact - bnmean_running) / bnstd_running) + bnbias\n",
    "        h = torch.tanh(hpreact)\n",
    "        logits = h @ W2 + b2\n",
    "        probs = F.softmax(logits, dim=1)\n",
    "        ix = torch.multinomial(probs, num_samples=1, generator=g).item()\n",
    "\n",
    "        out.append(itos[ix])\n",
    "        context = context[1:] + [ix]\n",
    "\n",
    "        if ix == 0:\n",
    "            break\n",
    "    print(''.join(out))"
   ]
  },
  {
   "cell_type": "code",
   "execution_count": 78,
   "id": "8b941f72-8da9-4507-8a9b-65806762d754",
   "metadata": {},
   "outputs": [],
   "source": []
  },
  {
   "cell_type": "code",
   "execution_count": null,
   "id": "472596ac-41b2-4141-88de-da2d9289328c",
   "metadata": {},
   "outputs": [],
   "source": []
  }
 ],
 "metadata": {
  "kernelspec": {
   "display_name": "Python 3 (ipykernel)",
   "language": "python",
   "name": "python3"
  },
  "language_info": {
   "codemirror_mode": {
    "name": "ipython",
    "version": 3
   },
   "file_extension": ".py",
   "mimetype": "text/x-python",
   "name": "python",
   "nbconvert_exporter": "python",
   "pygments_lexer": "ipython3",
   "version": "3.11.5"
  }
 },
 "nbformat": 4,
 "nbformat_minor": 5
}
