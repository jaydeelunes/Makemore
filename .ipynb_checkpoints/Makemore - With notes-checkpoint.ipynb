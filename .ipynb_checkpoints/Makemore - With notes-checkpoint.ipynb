{
 "cells": [
  {
   "cell_type": "code",
   "execution_count": 69,
   "id": "6783fb3e-c7f9-4e28-886f-3a3438d80dc7",
   "metadata": {},
   "outputs": [],
   "source": [
    "import torch\n",
    "import torch.nn.functional as F\n",
    "import matplotlib.pyplot as plt\n",
    "%matplotlib inline"
   ]
  },
  {
   "cell_type": "code",
   "execution_count": 38,
   "id": "4f20e6d1-efa4-40c3-8055-d17518bea16d",
   "metadata": {},
   "outputs": [
    {
     "data": {
      "text/plain": [
       "['emma', 'olivia', 'ava', 'isabella', 'sophia', 'charlotte', 'mia', 'amelia']"
      ]
     },
     "execution_count": 38,
     "metadata": {},
     "output_type": "execute_result"
    }
   ],
   "source": [
    "words = open('Makemore/names.txt').read().splitlines()\n",
    "words[:8]"
   ]
  },
  {
   "cell_type": "code",
   "execution_count": 39,
   "id": "b1c05c62-0394-4988-ba75-c700d5ca0fea",
   "metadata": {},
   "outputs": [
    {
     "name": "stdout",
     "output_type": "stream",
     "text": [
      "itos: {1: 'a', 2: 'b', 3: 'c', 4: 'd', 5: 'e', 6: 'f', 7: 'g', 8: 'h', 9: 'i', 10: 'j', 11: 'k', 12: 'l', 13: 'm', 14: 'n', 15: 'o', 16: 'p', 17: 'q', 18: 'r', 19: 's', 20: 't', 21: 'u', 22: 'v', 23: 'w', 24: 'x', 25: 'y', 26: 'z', 0: '.'}\n",
      "vocab_size: 27\n"
     ]
    }
   ],
   "source": [
    "# Get vocabulary and map to/from integers\n",
    "chars = sorted(list(set(''.join(words))))\n",
    "itos = {i+1:s for i, s in enumerate(chars)}\n",
    "itos[0] = '.'\n",
    "stoi = {s:i for i, s in itos.items()}\n",
    "vocab_size = len(itos)\n",
    "print(f'itos: {itos}')\n",
    "print(f'vocab_size: {vocab_size}')"
   ]
  },
  {
   "cell_type": "code",
   "execution_count": 44,
   "id": "9a2973aa-0cf9-4b5a-a5bc-c2582955d892",
   "metadata": {},
   "outputs": [
    {
     "name": "stdout",
     "output_type": "stream",
     "text": [
      "torch.Size([182625, 3]) torch.Size([182625])\n",
      "torch.Size([22655, 3]) torch.Size([22655])\n",
      "torch.Size([22866, 3]) torch.Size([22866])\n"
     ]
    }
   ],
   "source": [
    "# Build dataset\n",
    "block_size = 3\n",
    "\n",
    "def build_dataset(words):\n",
    "    X, Y = [], []\n",
    "    for name in words:\n",
    "        context = [0] * block_size\n",
    "        for char in name + '.':\n",
    "            ix = stoi[char]\n",
    "            X.append(context)\n",
    "            Y.append(ix)\n",
    "            context = context[1:] + [ix]\n",
    "\n",
    "    X = torch.tensor(X)\n",
    "    Y = torch.tensor(Y)\n",
    "    print(X.shape, Y.shape)\n",
    "    return X, Y\n",
    "\n",
    "import random\n",
    "random.seed(42)\n",
    "random.shuffle(words)\n",
    "n1 = int(0.8 * len(words))\n",
    "n2 = int(0.9 * len(words))\n",
    "\n",
    "Xtr, Ytr = build_dataset(words[:n1])\n",
    "Xdev, Ydev = build_dataset(words[n1:n2])\n",
    "Xte, Yte = build_dataset(words[n2:])"
   ]
  },
  {
   "cell_type": "code",
   "execution_count": 96,
   "id": "e12c5661-5879-4999-9641-413c753c5776",
   "metadata": {},
   "outputs": [
    {
     "name": "stdout",
     "output_type": "stream",
     "text": [
      "Count of parameters: 11724\n"
     ]
    }
   ],
   "source": [
    "# Instantiate the MLP\n",
    "n_emb = 10\n",
    "n_hidden = 200\n",
    "\n",
    "g = torch.Generator().manual_seed(2147483647)\n",
    "C = torch.randn((vocab_size, n_emb), generator=g)\n",
    "W1 = torch.randn((block_size * n_emb, n_hidden), generator=g) * 0.2\n",
    "b1 = torch.randn(n_hidden, generator = g) * 0.01\n",
    "W2 = torch.randn((n_hidden, vocab_size), generator=g) * 0.01\n",
    "b2 = torch.randn(vocab_size, generator=g) * 0\n",
    "\n",
    "parameters = [C, W1, b2, W2, b2]\n",
    "for p in parameters:\n",
    "    p.requires_grad = True\n",
    "\n",
    "print(f'Count of parameters: {sum(p.nelement() for p in parameters)}')"
   ]
  },
  {
   "cell_type": "code",
   "execution_count": 97,
   "id": "2989fa25-5702-4df2-bff9-22be2c0f3d9a",
   "metadata": {},
   "outputs": [
    {
     "name": "stdout",
     "output_type": "stream",
     "text": [
      "   0 / 300000: 3.3090851306915283\n",
      "10000 / 300000: 2.1255693435668945\n",
      "20000 / 300000: 2.049628257751465\n",
      "30000 / 300000: 2.2283549308776855\n",
      "40000 / 300000: 2.280510663986206\n",
      "50000 / 300000: 1.990231990814209\n",
      "60000 / 300000: 2.105511426925659\n",
      "70000 / 300000: 1.998771071434021\n",
      "80000 / 300000: 2.014202117919922\n",
      "90000 / 300000: 1.950997233390808\n",
      "100000 / 300000: 2.3592875003814697\n",
      "110000 / 300000: 2.267503499984741\n",
      "120000 / 300000: 2.291903018951416\n",
      "130000 / 300000: 2.1486220359802246\n",
      "140000 / 300000: 2.1030609607696533\n",
      "150000 / 300000: 1.9358981847763062\n",
      "160000 / 300000: 2.0698673725128174\n",
      "170000 / 300000: 2.0754144191741943\n",
      "180000 / 300000: 1.9545820951461792\n",
      "190000 / 300000: 1.8513139486312866\n",
      "200000 / 300000: 1.971919298171997\n",
      "210000 / 300000: 2.001279592514038\n",
      "220000 / 300000: 1.9799062013626099\n",
      "230000 / 300000: 2.1933116912841797\n",
      "240000 / 300000: 1.7292102575302124\n",
      "250000 / 300000: 1.891098141670227\n",
      "260000 / 300000: 1.9536948204040527\n",
      "270000 / 300000: 1.8495618104934692\n",
      "280000 / 300000: 2.0279452800750732\n",
      "290000 / 300000: 2.1548922061920166\n"
     ]
    },
    {
     "data": {
      "text/plain": [
       "[<matplotlib.lines.Line2D at 0x12ca38bd0>]"
      ]
     },
     "execution_count": 97,
     "metadata": {},
     "output_type": "execute_result"
    },
    {
     "data": {
      "image/png": "[encoded data removed]",
      "text/plain": [
       "<Figure size 640x480 with 1 Axes>"
      ]
     },
     "metadata": {},
     "output_type": "display_data"
    }
   ],
   "source": [
    "# Training the neural network\n",
    "max_steps = 300000\n",
    "batch_size = 64\n",
    "lossi = []\n",
    "\n",
    "for i in range(max_steps):\n",
    "\n",
    "    # Create batch\n",
    "    ix = torch.randint(0, Xtr.shape[0], (batch_size,), generator=g)\n",
    "    Xb, Yb = Xtr[ix], Ytr[ix]\n",
    "    \n",
    "    # Forward Pass\n",
    "    emb = C[Xb]\n",
    "    embcat = emb.view(emb.shape[0], -1)\n",
    "    hpreact = embcat @ W1 + b1\n",
    "    h = torch.tanh(hpreact)\n",
    "    logits = h @ W2 + b2\n",
    "    loss = F.cross_entropy(logits, Yb)\n",
    "    \n",
    "    # Backward Pass\n",
    "    for p in parameters:\n",
    "        p.grad = None\n",
    "    loss.backward()\n",
    "    \n",
    "    # Update\n",
    "    lr = 0.1 if i < 30000 else 0.05 if i < 80000 else 0.1 if i < 120000 else 0.005 if i < 170000 else 0.001\n",
    "    for p in parameters:\n",
    "        p.data += -lr * p.grad\n",
    "    \n",
    "    # Track stats\n",
    "    if i % 10000 == 0:\n",
    "        print(f'{i:4d} / {max_steps:4d}: {loss}')\n",
    "    lossi.append(loss.log10().item())\n",
    "\n",
    "plt.plot(lossi)"
   ]
  },
  {
   "cell_type": "code",
   "execution_count": 102,
   "id": "5ac8f124-4ec3-44d5-bc86-7ac98370e9b3",
   "metadata": {},
   "outputs": [
    {
     "name": "stdout",
     "output_type": "stream",
     "text": [
      "Train tensor(2.0225)\n",
      "Val tensor(2.0939)\n"
     ]
    }
   ],
   "source": [
    "# Get loss per split\n",
    "@torch.no_grad()\n",
    "def split_loss(split):\n",
    "    x, y = {\n",
    "        'train': (Xtr, Ytr),\n",
    "        'val': (Xdev, Ydev),\n",
    "        'test': (Xte, Yte)\n",
    "    }[split]\n",
    "\n",
    "    # Forward pass\n",
    "    emb = C[x]\n",
    "    embcat = emb.view(emb.shape[0], -1)\n",
    "    hpreact = embcat @ W1 + b1\n",
    "    h = torch.tanh(hpreact)\n",
    "    logits = h @ W2 + b2\n",
    "    loss = F.cross_entropy(logits, y)\n",
    "\n",
    "    print(split.capitalize(), loss)\n",
    "\n",
    "split_loss('train')\n",
    "split_loss('val')"
   ]
  },
  {
   "cell_type": "code",
   "execution_count": 109,
   "id": "dcb96e0c-29cf-4d8e-a9c6-a2732e054da7",
   "metadata": {},
   "outputs": [
    {
     "name": "stdout",
     "output_type": "stream",
     "text": [
      "jaimunna.\n",
      "ruthamiry.\n",
      "jasrihel.\n",
      "ani.\n",
      "raiya.\n",
      "maity.\n",
      "aady.\n",
      "kaity.\n",
      "aya.\n",
      "aida.\n",
      "sir.\n",
      "tavi.\n",
      "ari.\n",
      "sudelsne.\n",
      "tilct.\n",
      "ladhbellani.\n",
      "gleks.\n",
      "chriz.\n",
      "leigh.\n",
      "celiz.\n"
     ]
    }
   ],
   "source": [
    "# Sample from the neural network\n",
    "g = torch.Generator().manual_seed(2147483647 + 30)\n",
    "\n",
    "for _ in range(20):\n",
    "    out = []\n",
    "    context = [0] * block_size\n",
    "    while True:\n",
    "        # Input the context\n",
    "        emb = C[torch.tensor([context])]\n",
    "        embcat = emb.view(emb.shape[0], -1)\n",
    "        hpreact = embcat @ W1 + b1\n",
    "        h = torch.tanh(hpreact)\n",
    "        logits = h @ W2 + b2\n",
    "        probs = F.softmax(logits, dim=1)\n",
    "        # Sample from the distribution\n",
    "        ix = torch.multinomial(probs, num_samples=1, generator=g)\n",
    "        # Add to out and shift context\n",
    "        out.append(itos[ix.item()])\n",
    "        context = context[1:] + [ix]\n",
    "        # Break if done\n",
    "        if ix == 0:\n",
    "            break\n",
    "    print(''.join(out))\n",
    "        "
   ]
  },
  {
   "cell_type": "code",
   "execution_count": null,
   "id": "b58b00fb-f2d5-420d-85cb-7e7fdef5d55c",
   "metadata": {},
   "outputs": [],
   "source": []
  }
 ],
 "metadata": {
  "kernelspec": {
   "display_name": "Python 3 (ipykernel)",
   "language": "python",
   "name": "python3"
  },
  "language_info": {
   "codemirror_mode": {
    "name": "ipython",
    "version": 3
   },
   "file_extension": ".py",
   "mimetype": "text/x-python",
   "name": "python",
   "nbconvert_exporter": "python",
   "pygments_lexer": "ipython3",
   "version": "3.11.5"
  }
 },
 "nbformat": 4,
 "nbformat_minor": 5
}
